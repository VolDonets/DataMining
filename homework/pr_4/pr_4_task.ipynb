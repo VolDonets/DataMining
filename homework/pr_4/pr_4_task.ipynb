{
 "cells": [
  {
   "metadata": {},
   "cell_type": "markdown",
   "source": [
    "# Practical Work #4\n",
    "# First, Last Names\n",
    "# Group No"
   ],
   "id": "eea9ba35d689d304"
  },
  {
   "metadata": {},
   "cell_type": "markdown",
   "source": [
    "## Tasks for practical Work:\n",
    "1. Download one of presented .csv files with selected data\n",
    "2. Load it into your pd.DataFrame\n",
    "3. Filter data by some criteria (like year, color, number_value, etc.)\n",
    "4. Remove some columns\n",
    "5. Create a new column from combining existing columns (it could be year * some num value)\n",
    "6. Modify column values\n",
    "7. Make some visualisation like if was in the `classwork_4.ipynb`"
   ],
   "id": "d13d97b397232f4c"
  },
  {
   "metadata": {},
   "cell_type": "markdown",
   "source": [
    "# List of source datasets\n",
    "1. [Car Price Dataset](https://www.kaggle.com/datasets/asinow/car-price-dataset)\n",
    "2. [Diabetes Dataset](https://www.kaggle.com/datasets/asinow/diabetes-dataset)\n",
    "3. [U.S Post College Salaries](https://www.kaggle.com/datasets/rathoddharmendra/post-college-salaries)\n",
    "4. [Red Wine Quality](https://www.kaggle.com/datasets/uciml/red-wine-quality-cortez-et-al-2009)\n",
    "5. [Arrest Data in Los Angeles](https://www.kaggle.com/datasets/arsri1/arrest-data-in-los-angeles)\n",
    "6. [Daily Climate time series data](https://www.kaggle.com/datasets/sumanthvrao/daily-climate-time-series-data)\n",
    "7. [Digital Literacy Education Dataset](https://www.kaggle.com/datasets/ziya07/digital-literacy-education-dataset)\n",
    "8. [Global Country Information Dataset 2023](https://www.kaggle.com/datasets/nelgiriyewithana/countries-of-the-world-2023)\n",
    "9. [College Basketball Dataset](https://www.kaggle.com/datasets/andrewsundberg/college-basketball-dataset)\n",
    "10. [Pulsar Dataset HTRU2](https://www.kaggle.com/datasets/charitarth/pulsar-dataset-htru2)\n",
    "11. [Travel Review Rating Dataset](https://www.kaggle.com/datasets/wirachleelakiatiwong/travel-review-rating-dataset)\n",
    "12. [School Attendance by District 2021-2022](https://www.kaggle.com/datasets/usmanlovescode/school-attendance-b-district-2021-2022)"
   ],
   "id": "ec6e9153349db26a"
  },
  {
   "metadata": {},
   "cell_type": "code",
   "outputs": [],
   "execution_count": null,
   "source": "",
   "id": "faf31c7b66a9bc37"
  },
  {
   "metadata": {},
   "cell_type": "code",
   "outputs": [],
   "execution_count": null,
   "source": "",
   "id": "14e73b1fc7e8e8ce"
  },
  {
   "metadata": {},
   "cell_type": "code",
   "outputs": [],
   "execution_count": null,
   "source": "",
   "id": "1017b0822ea0a50d"
  },
  {
   "metadata": {},
   "cell_type": "code",
   "outputs": [],
   "execution_count": null,
   "source": "",
   "id": "247081e81cf2c6a5"
  },
  {
   "metadata": {},
   "cell_type": "code",
   "outputs": [],
   "execution_count": null,
   "source": "",
   "id": "1aa8f08736a5b23c"
  },
  {
   "metadata": {},
   "cell_type": "code",
   "outputs": [],
   "execution_count": null,
   "source": "",
   "id": "512013909e778d79"
  },
  {
   "metadata": {},
   "cell_type": "code",
   "outputs": [],
   "execution_count": null,
   "source": "",
   "id": "5e60fd3b0324e542"
  }
 ],
 "metadata": {
  "kernelspec": {
   "display_name": "Python 3",
   "language": "python",
   "name": "python3"
  },
  "language_info": {
   "codemirror_mode": {
    "name": "ipython",
    "version": 2
   },
   "file_extension": ".py",
   "mimetype": "text/x-python",
   "name": "python",
   "nbconvert_exporter": "python",
   "pygments_lexer": "ipython2",
   "version": "2.7.6"
  }
 },
 "nbformat": 4,
 "nbformat_minor": 5
}
