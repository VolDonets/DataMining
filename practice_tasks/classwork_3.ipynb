{
 "cells": [
  {
   "metadata": {},
   "cell_type": "markdown",
   "source": "# Pandas: Series + DataFrame",
   "id": "225835f9113c965"
  },
  {
   "metadata": {},
   "cell_type": "markdown",
   "source": "## Series",
   "id": "c718b4dc7c96d54"
  },
  {
   "metadata": {
    "ExecuteTime": {
     "end_time": "2025-03-03T11:02:42.327397Z",
     "start_time": "2025-03-03T11:02:41.803817Z"
    }
   },
   "cell_type": "code",
   "source": "import pandas as pd",
   "id": "1f7a5233e79f4999",
   "outputs": [],
   "execution_count": 2
  },
  {
   "metadata": {
    "ExecuteTime": {
     "end_time": "2025-03-03T11:03:03.580398Z",
     "start_time": "2025-03-03T11:03:03.573281Z"
    }
   },
   "cell_type": "code",
   "source": [
    "series = pd.Series([1, 3, 4, 0, -1])\n",
    "series"
   ],
   "id": "55397cf42efdfd93",
   "outputs": [
    {
     "data": {
      "text/plain": [
       "0    1\n",
       "1    3\n",
       "2    4\n",
       "3    0\n",
       "4   -1\n",
       "dtype: int64"
      ]
     },
     "execution_count": 4,
     "metadata": {},
     "output_type": "execute_result"
    }
   ],
   "execution_count": 4
  },
  {
   "metadata": {
    "ExecuteTime": {
     "end_time": "2025-03-03T11:03:52.952689Z",
     "start_time": "2025-03-03T11:03:52.945790Z"
    }
   },
   "cell_type": "code",
   "source": [
    "series = pd.Series([1, 3, 4, 0, -1], name=\"My Numbers\")\n",
    "series"
   ],
   "id": "843525e64e4ce828",
   "outputs": [
    {
     "data": {
      "text/plain": [
       "0    1\n",
       "1    3\n",
       "2    4\n",
       "3    0\n",
       "4   -1\n",
       "Name: My Numbers, dtype: int64"
      ]
     },
     "execution_count": 6,
     "metadata": {},
     "output_type": "execute_result"
    }
   ],
   "execution_count": 6
  },
  {
   "metadata": {
    "ExecuteTime": {
     "end_time": "2025-03-03T11:04:23.930745Z",
     "start_time": "2025-03-03T11:04:23.923621Z"
    }
   },
   "cell_type": "code",
   "source": [
    "series = pd.Series([1, 3, 4, 0, -1], name=\"My Numbers\", index=[-1, -2, -3, -4, 0])\n",
    "series"
   ],
   "id": "1bb31548c1679088",
   "outputs": [
    {
     "data": {
      "text/plain": [
       "-1    1\n",
       "-2    3\n",
       "-3    4\n",
       "-4    0\n",
       " 0   -1\n",
       "Name: My Numbers, dtype: int64"
      ]
     },
     "execution_count": 7,
     "metadata": {},
     "output_type": "execute_result"
    }
   ],
   "execution_count": 7
  },
  {
   "metadata": {
    "ExecuteTime": {
     "end_time": "2025-03-03T11:04:55.510025Z",
     "start_time": "2025-03-03T11:04:55.505533Z"
    }
   },
   "cell_type": "code",
   "source": "series[-1], series[-4], series[0]",
   "id": "bf93f042df725c3a",
   "outputs": [
    {
     "data": {
      "text/plain": [
       "(np.int64(1), np.int64(0), np.int64(-1))"
      ]
     },
     "execution_count": 9,
     "metadata": {},
     "output_type": "execute_result"
    }
   ],
   "execution_count": 9
  },
  {
   "metadata": {
    "ExecuteTime": {
     "end_time": "2025-03-03T11:05:39.672290Z",
     "start_time": "2025-03-03T11:05:39.665662Z"
    }
   },
   "cell_type": "code",
   "source": [
    "series = pd.Series([1, 3, 4, 0, -1], name=\"My Numbers\", index=[\"first\", \"second\", \"third\", \"forth\", \"fifth\"])\n",
    "series"
   ],
   "id": "1ccf90490e487186",
   "outputs": [
    {
     "data": {
      "text/plain": [
       "first     1\n",
       "second    3\n",
       "third     4\n",
       "forth     0\n",
       "fifth    -1\n",
       "Name: My Numbers, dtype: int64"
      ]
     },
     "execution_count": 10,
     "metadata": {},
     "output_type": "execute_result"
    }
   ],
   "execution_count": 10
  },
  {
   "metadata": {
    "ExecuteTime": {
     "end_time": "2025-03-03T11:06:31.174582Z",
     "start_time": "2025-03-03T11:06:31.169892Z"
    }
   },
   "cell_type": "code",
   "source": "series[\"first\"], series[\"forth\"], series[\"fifth\"]",
   "id": "ca934f0e25183e35",
   "outputs": [
    {
     "data": {
      "text/plain": [
       "(np.int64(1), np.int64(0), np.int64(-1))"
      ]
     },
     "execution_count": 12,
     "metadata": {},
     "output_type": "execute_result"
    }
   ],
   "execution_count": 12
  },
  {
   "metadata": {
    "ExecuteTime": {
     "end_time": "2025-03-03T11:07:07.865914Z",
     "start_time": "2025-03-03T11:07:07.859201Z"
    }
   },
   "cell_type": "code",
   "source": [
    "sdata = {'Ohio': 35000, 'Texas': 71000, 'Oregon': 16000, 'Utah': 5000}\n",
    "obj3 = pd.Series(sdata, name=\"USA States\")\n",
    "obj3"
   ],
   "id": "37f1f61cc0737577",
   "outputs": [
    {
     "data": {
      "text/plain": [
       "Ohio      35000\n",
       "Texas     71000\n",
       "Oregon    16000\n",
       "Utah       5000\n",
       "Name: USA States, dtype: int64"
      ]
     },
     "execution_count": 13,
     "metadata": {},
     "output_type": "execute_result"
    }
   ],
   "execution_count": 13
  },
  {
   "metadata": {
    "ExecuteTime": {
     "end_time": "2025-03-03T11:07:36.656977Z",
     "start_time": "2025-03-03T11:07:36.650793Z"
    }
   },
   "cell_type": "code",
   "source": "obj3 * 3",
   "id": "9417c0b26e510e0a",
   "outputs": [
    {
     "data": {
      "text/plain": [
       "Ohio      105000\n",
       "Texas     213000\n",
       "Oregon     48000\n",
       "Utah       15000\n",
       "Name: USA States, dtype: int64"
      ]
     },
     "execution_count": 14,
     "metadata": {},
     "output_type": "execute_result"
    }
   ],
   "execution_count": 14
  },
  {
   "metadata": {
    "ExecuteTime": {
     "end_time": "2025-03-03T11:08:03.218056Z",
     "start_time": "2025-03-03T11:08:03.210602Z"
    }
   },
   "cell_type": "code",
   "source": "obj3 - 10_000",
   "id": "2b5f09135cc6ad06",
   "outputs": [
    {
     "data": {
      "text/plain": [
       "Ohio      25000\n",
       "Texas     61000\n",
       "Oregon     6000\n",
       "Utah      -5000\n",
       "Name: USA States, dtype: int64"
      ]
     },
     "execution_count": 15,
     "metadata": {},
     "output_type": "execute_result"
    }
   ],
   "execution_count": 15
  },
  {
   "metadata": {
    "ExecuteTime": {
     "end_time": "2025-03-03T11:09:00.965923Z",
     "start_time": "2025-03-03T11:09:00.958398Z"
    }
   },
   "cell_type": "code",
   "source": "obj3[obj3 > 17_000]",
   "id": "74a036eac7a2f7a0",
   "outputs": [
    {
     "data": {
      "text/plain": [
       "Ohio     35000\n",
       "Texas    71000\n",
       "Name: USA States, dtype: int64"
      ]
     },
     "execution_count": 18,
     "metadata": {},
     "output_type": "execute_result"
    }
   ],
   "execution_count": 18
  },
  {
   "metadata": {},
   "cell_type": "markdown",
   "source": "# DataFrame",
   "id": "63e3da3afb6fa0d6"
  },
  {
   "metadata": {
    "ExecuteTime": {
     "end_time": "2025-03-03T11:16:37.605525Z",
     "start_time": "2025-03-03T11:16:37.595674Z"
    }
   },
   "cell_type": "code",
   "source": [
    "data = {\n",
    "    'state': ['Ohio', 'Ohio', 'Ohio', 'Nevada', 'Nevada', 'Nevada', 'UTA', \"UTA\"],\n",
    "    'year': [2000, 2001, 2002, None, 2002, 2003, 2004, 2001],\n",
    "    'pop': [1.5, None, 3.6, 2.4, 2.9, 3.2, None, 4.2]\n",
    "}\n",
    "frame = pd.DataFrame(data)\n",
    "frame"
   ],
   "id": "31f0316ebd1b0042",
   "outputs": [
    {
     "data": {
      "text/plain": [
       "    state    year  pop\n",
       "0    Ohio  2000.0  1.5\n",
       "1    Ohio  2001.0  NaN\n",
       "2    Ohio  2002.0  3.6\n",
       "3  Nevada     NaN  2.4\n",
       "4  Nevada  2002.0  2.9\n",
       "5  Nevada  2003.0  3.2\n",
       "6     UTA  2004.0  NaN\n",
       "7     UTA  2001.0  4.2"
      ],
      "text/html": [
       "<div>\n",
       "<style scoped>\n",
       "    .dataframe tbody tr th:only-of-type {\n",
       "        vertical-align: middle;\n",
       "    }\n",
       "\n",
       "    .dataframe tbody tr th {\n",
       "        vertical-align: top;\n",
       "    }\n",
       "\n",
       "    .dataframe thead th {\n",
       "        text-align: right;\n",
       "    }\n",
       "</style>\n",
       "<table border=\"1\" class=\"dataframe\">\n",
       "  <thead>\n",
       "    <tr style=\"text-align: right;\">\n",
       "      <th></th>\n",
       "      <th>state</th>\n",
       "      <th>year</th>\n",
       "      <th>pop</th>\n",
       "    </tr>\n",
       "  </thead>\n",
       "  <tbody>\n",
       "    <tr>\n",
       "      <th>0</th>\n",
       "      <td>Ohio</td>\n",
       "      <td>2000.0</td>\n",
       "      <td>1.5</td>\n",
       "    </tr>\n",
       "    <tr>\n",
       "      <th>1</th>\n",
       "      <td>Ohio</td>\n",
       "      <td>2001.0</td>\n",
       "      <td>NaN</td>\n",
       "    </tr>\n",
       "    <tr>\n",
       "      <th>2</th>\n",
       "      <td>Ohio</td>\n",
       "      <td>2002.0</td>\n",
       "      <td>3.6</td>\n",
       "    </tr>\n",
       "    <tr>\n",
       "      <th>3</th>\n",
       "      <td>Nevada</td>\n",
       "      <td>NaN</td>\n",
       "      <td>2.4</td>\n",
       "    </tr>\n",
       "    <tr>\n",
       "      <th>4</th>\n",
       "      <td>Nevada</td>\n",
       "      <td>2002.0</td>\n",
       "      <td>2.9</td>\n",
       "    </tr>\n",
       "    <tr>\n",
       "      <th>5</th>\n",
       "      <td>Nevada</td>\n",
       "      <td>2003.0</td>\n",
       "      <td>3.2</td>\n",
       "    </tr>\n",
       "    <tr>\n",
       "      <th>6</th>\n",
       "      <td>UTA</td>\n",
       "      <td>2004.0</td>\n",
       "      <td>NaN</td>\n",
       "    </tr>\n",
       "    <tr>\n",
       "      <th>7</th>\n",
       "      <td>UTA</td>\n",
       "      <td>2001.0</td>\n",
       "      <td>4.2</td>\n",
       "    </tr>\n",
       "  </tbody>\n",
       "</table>\n",
       "</div>"
      ]
     },
     "execution_count": 36,
     "metadata": {},
     "output_type": "execute_result"
    }
   ],
   "execution_count": 36
  },
  {
   "metadata": {
    "ExecuteTime": {
     "end_time": "2025-03-03T11:12:41.310772Z",
     "start_time": "2025-03-03T11:12:41.305194Z"
    }
   },
   "cell_type": "code",
   "source": "frame[\"state\"]",
   "id": "61bb326a96033565",
   "outputs": [
    {
     "data": {
      "text/plain": [
       "0      Ohio\n",
       "1      Ohio\n",
       "2      Ohio\n",
       "3    Nevada\n",
       "4    Nevada\n",
       "5    Nevada\n",
       "6       UTA\n",
       "7       UTA\n",
       "Name: state, dtype: object"
      ]
     },
     "execution_count": 21,
     "metadata": {},
     "output_type": "execute_result"
    }
   ],
   "execution_count": 21
  },
  {
   "metadata": {
    "ExecuteTime": {
     "end_time": "2025-03-03T11:12:51.954941Z",
     "start_time": "2025-03-03T11:12:51.949578Z"
    }
   },
   "cell_type": "code",
   "source": "type(frame[\"state\"])",
   "id": "e0e8d91d7e583fe7",
   "outputs": [
    {
     "data": {
      "text/plain": [
       "pandas.core.series.Series"
      ]
     },
     "execution_count": 22,
     "metadata": {},
     "output_type": "execute_result"
    }
   ],
   "execution_count": 22
  },
  {
   "metadata": {
    "ExecuteTime": {
     "end_time": "2025-03-03T11:16:13.736083Z",
     "start_time": "2025-03-03T11:16:13.730984Z"
    }
   },
   "cell_type": "code",
   "source": "list(frame[\"state\"])",
   "id": "86109c5fb5b3d846",
   "outputs": [
    {
     "data": {
      "text/plain": [
       "['Ohio', 'Ohio', 'Ohio', 'Nevada', 'Nevada', 'Nevada', 'UTA', 'UTA']"
      ]
     },
     "execution_count": 33,
     "metadata": {},
     "output_type": "execute_result"
    }
   ],
   "execution_count": 33
  },
  {
   "metadata": {
    "ExecuteTime": {
     "end_time": "2025-03-03T11:16:40.820397Z",
     "start_time": "2025-03-03T11:16:40.811216Z"
    }
   },
   "cell_type": "code",
   "source": [
    "frame[\"state\"] = ['Ohio', 'Ohio', 'New York', 'Nevada', 'Nevada', 'Nevada', 'UTA', 'UTA']\n",
    "frame"
   ],
   "id": "4c6162b8899b70f9",
   "outputs": [
    {
     "data": {
      "text/plain": [
       "      state    year  pop\n",
       "0      Ohio  2000.0  1.5\n",
       "1      Ohio  2001.0  NaN\n",
       "2  New York  2002.0  3.6\n",
       "3    Nevada     NaN  2.4\n",
       "4    Nevada  2002.0  2.9\n",
       "5    Nevada  2003.0  3.2\n",
       "6       UTA  2004.0  NaN\n",
       "7       UTA  2001.0  4.2"
      ],
      "text/html": [
       "<div>\n",
       "<style scoped>\n",
       "    .dataframe tbody tr th:only-of-type {\n",
       "        vertical-align: middle;\n",
       "    }\n",
       "\n",
       "    .dataframe tbody tr th {\n",
       "        vertical-align: top;\n",
       "    }\n",
       "\n",
       "    .dataframe thead th {\n",
       "        text-align: right;\n",
       "    }\n",
       "</style>\n",
       "<table border=\"1\" class=\"dataframe\">\n",
       "  <thead>\n",
       "    <tr style=\"text-align: right;\">\n",
       "      <th></th>\n",
       "      <th>state</th>\n",
       "      <th>year</th>\n",
       "      <th>pop</th>\n",
       "    </tr>\n",
       "  </thead>\n",
       "  <tbody>\n",
       "    <tr>\n",
       "      <th>0</th>\n",
       "      <td>Ohio</td>\n",
       "      <td>2000.0</td>\n",
       "      <td>1.5</td>\n",
       "    </tr>\n",
       "    <tr>\n",
       "      <th>1</th>\n",
       "      <td>Ohio</td>\n",
       "      <td>2001.0</td>\n",
       "      <td>NaN</td>\n",
       "    </tr>\n",
       "    <tr>\n",
       "      <th>2</th>\n",
       "      <td>New York</td>\n",
       "      <td>2002.0</td>\n",
       "      <td>3.6</td>\n",
       "    </tr>\n",
       "    <tr>\n",
       "      <th>3</th>\n",
       "      <td>Nevada</td>\n",
       "      <td>NaN</td>\n",
       "      <td>2.4</td>\n",
       "    </tr>\n",
       "    <tr>\n",
       "      <th>4</th>\n",
       "      <td>Nevada</td>\n",
       "      <td>2002.0</td>\n",
       "      <td>2.9</td>\n",
       "    </tr>\n",
       "    <tr>\n",
       "      <th>5</th>\n",
       "      <td>Nevada</td>\n",
       "      <td>2003.0</td>\n",
       "      <td>3.2</td>\n",
       "    </tr>\n",
       "    <tr>\n",
       "      <th>6</th>\n",
       "      <td>UTA</td>\n",
       "      <td>2004.0</td>\n",
       "      <td>NaN</td>\n",
       "    </tr>\n",
       "    <tr>\n",
       "      <th>7</th>\n",
       "      <td>UTA</td>\n",
       "      <td>2001.0</td>\n",
       "      <td>4.2</td>\n",
       "    </tr>\n",
       "  </tbody>\n",
       "</table>\n",
       "</div>"
      ]
     },
     "execution_count": 37,
     "metadata": {},
     "output_type": "execute_result"
    }
   ],
   "execution_count": 37
  },
  {
   "metadata": {
    "ExecuteTime": {
     "end_time": "2025-03-03T11:16:41.423422Z",
     "start_time": "2025-03-03T11:16:41.415218Z"
    }
   },
   "cell_type": "code",
   "source": [
    "frame = frame.dropna().reset_index(drop=True)\n",
    "frame"
   ],
   "id": "c9796503542e8cf4",
   "outputs": [
    {
     "data": {
      "text/plain": [
       "      state    year  pop\n",
       "0      Ohio  2000.0  1.5\n",
       "1  New York  2002.0  3.6\n",
       "2    Nevada  2002.0  2.9\n",
       "3    Nevada  2003.0  3.2\n",
       "4       UTA  2001.0  4.2"
      ],
      "text/html": [
       "<div>\n",
       "<style scoped>\n",
       "    .dataframe tbody tr th:only-of-type {\n",
       "        vertical-align: middle;\n",
       "    }\n",
       "\n",
       "    .dataframe tbody tr th {\n",
       "        vertical-align: top;\n",
       "    }\n",
       "\n",
       "    .dataframe thead th {\n",
       "        text-align: right;\n",
       "    }\n",
       "</style>\n",
       "<table border=\"1\" class=\"dataframe\">\n",
       "  <thead>\n",
       "    <tr style=\"text-align: right;\">\n",
       "      <th></th>\n",
       "      <th>state</th>\n",
       "      <th>year</th>\n",
       "      <th>pop</th>\n",
       "    </tr>\n",
       "  </thead>\n",
       "  <tbody>\n",
       "    <tr>\n",
       "      <th>0</th>\n",
       "      <td>Ohio</td>\n",
       "      <td>2000.0</td>\n",
       "      <td>1.5</td>\n",
       "    </tr>\n",
       "    <tr>\n",
       "      <th>1</th>\n",
       "      <td>New York</td>\n",
       "      <td>2002.0</td>\n",
       "      <td>3.6</td>\n",
       "    </tr>\n",
       "    <tr>\n",
       "      <th>2</th>\n",
       "      <td>Nevada</td>\n",
       "      <td>2002.0</td>\n",
       "      <td>2.9</td>\n",
       "    </tr>\n",
       "    <tr>\n",
       "      <th>3</th>\n",
       "      <td>Nevada</td>\n",
       "      <td>2003.0</td>\n",
       "      <td>3.2</td>\n",
       "    </tr>\n",
       "    <tr>\n",
       "      <th>4</th>\n",
       "      <td>UTA</td>\n",
       "      <td>2001.0</td>\n",
       "      <td>4.2</td>\n",
       "    </tr>\n",
       "  </tbody>\n",
       "</table>\n",
       "</div>"
      ]
     },
     "execution_count": 38,
     "metadata": {},
     "output_type": "execute_result"
    }
   ],
   "execution_count": 38
  },
  {
   "metadata": {
    "ExecuteTime": {
     "end_time": "2025-03-03T11:17:38.902589Z",
     "start_time": "2025-03-03T11:17:38.897387Z"
    }
   },
   "cell_type": "code",
   "source": [
    "year_per_pop: pd.Series = frame[\"year\"] / frame[\"pop\"]\n",
    "frame[\"year_per_pop\"] = year_per_pop.tolist()"
   ],
   "id": "d39ee1aabf3b6daa",
   "outputs": [],
   "execution_count": 39
  },
  {
   "metadata": {
    "ExecuteTime": {
     "end_time": "2025-03-03T11:17:43.145909Z",
     "start_time": "2025-03-03T11:17:43.138163Z"
    }
   },
   "cell_type": "code",
   "source": "frame",
   "id": "d07c5551b7ad48d0",
   "outputs": [
    {
     "data": {
      "text/plain": [
       "      state    year  pop  year_per_pop\n",
       "0      Ohio  2000.0  1.5   1333.333333\n",
       "1  New York  2002.0  3.6    556.111111\n",
       "2    Nevada  2002.0  2.9    690.344828\n",
       "3    Nevada  2003.0  3.2    625.937500\n",
       "4       UTA  2001.0  4.2    476.428571"
      ],
      "text/html": [
       "<div>\n",
       "<style scoped>\n",
       "    .dataframe tbody tr th:only-of-type {\n",
       "        vertical-align: middle;\n",
       "    }\n",
       "\n",
       "    .dataframe tbody tr th {\n",
       "        vertical-align: top;\n",
       "    }\n",
       "\n",
       "    .dataframe thead th {\n",
       "        text-align: right;\n",
       "    }\n",
       "</style>\n",
       "<table border=\"1\" class=\"dataframe\">\n",
       "  <thead>\n",
       "    <tr style=\"text-align: right;\">\n",
       "      <th></th>\n",
       "      <th>state</th>\n",
       "      <th>year</th>\n",
       "      <th>pop</th>\n",
       "      <th>year_per_pop</th>\n",
       "    </tr>\n",
       "  </thead>\n",
       "  <tbody>\n",
       "    <tr>\n",
       "      <th>0</th>\n",
       "      <td>Ohio</td>\n",
       "      <td>2000.0</td>\n",
       "      <td>1.5</td>\n",
       "      <td>1333.333333</td>\n",
       "    </tr>\n",
       "    <tr>\n",
       "      <th>1</th>\n",
       "      <td>New York</td>\n",
       "      <td>2002.0</td>\n",
       "      <td>3.6</td>\n",
       "      <td>556.111111</td>\n",
       "    </tr>\n",
       "    <tr>\n",
       "      <th>2</th>\n",
       "      <td>Nevada</td>\n",
       "      <td>2002.0</td>\n",
       "      <td>2.9</td>\n",
       "      <td>690.344828</td>\n",
       "    </tr>\n",
       "    <tr>\n",
       "      <th>3</th>\n",
       "      <td>Nevada</td>\n",
       "      <td>2003.0</td>\n",
       "      <td>3.2</td>\n",
       "      <td>625.937500</td>\n",
       "    </tr>\n",
       "    <tr>\n",
       "      <th>4</th>\n",
       "      <td>UTA</td>\n",
       "      <td>2001.0</td>\n",
       "      <td>4.2</td>\n",
       "      <td>476.428571</td>\n",
       "    </tr>\n",
       "  </tbody>\n",
       "</table>\n",
       "</div>"
      ]
     },
     "execution_count": 40,
     "metadata": {},
     "output_type": "execute_result"
    }
   ],
   "execution_count": 40
  },
  {
   "metadata": {
    "ExecuteTime": {
     "end_time": "2025-03-03T11:18:51.165659Z",
     "start_time": "2025-03-03T11:18:51.161711Z"
    }
   },
   "cell_type": "code",
   "source": "frame[\"year_mul_pop\"] = list(frame[\"year\"] * frame[\"pop\"])",
   "id": "d8c72d850c204aa9",
   "outputs": [],
   "execution_count": 41
  },
  {
   "metadata": {
    "ExecuteTime": {
     "end_time": "2025-03-03T11:18:53.146392Z",
     "start_time": "2025-03-03T11:18:53.137098Z"
    }
   },
   "cell_type": "code",
   "source": "frame",
   "id": "dd4c2fd0a5c6b716",
   "outputs": [
    {
     "data": {
      "text/plain": [
       "      state    year  pop  year_per_pop  year_mul_pop\n",
       "0      Ohio  2000.0  1.5   1333.333333        3000.0\n",
       "1  New York  2002.0  3.6    556.111111        7207.2\n",
       "2    Nevada  2002.0  2.9    690.344828        5805.8\n",
       "3    Nevada  2003.0  3.2    625.937500        6409.6\n",
       "4       UTA  2001.0  4.2    476.428571        8404.2"
      ],
      "text/html": [
       "<div>\n",
       "<style scoped>\n",
       "    .dataframe tbody tr th:only-of-type {\n",
       "        vertical-align: middle;\n",
       "    }\n",
       "\n",
       "    .dataframe tbody tr th {\n",
       "        vertical-align: top;\n",
       "    }\n",
       "\n",
       "    .dataframe thead th {\n",
       "        text-align: right;\n",
       "    }\n",
       "</style>\n",
       "<table border=\"1\" class=\"dataframe\">\n",
       "  <thead>\n",
       "    <tr style=\"text-align: right;\">\n",
       "      <th></th>\n",
       "      <th>state</th>\n",
       "      <th>year</th>\n",
       "      <th>pop</th>\n",
       "      <th>year_per_pop</th>\n",
       "      <th>year_mul_pop</th>\n",
       "    </tr>\n",
       "  </thead>\n",
       "  <tbody>\n",
       "    <tr>\n",
       "      <th>0</th>\n",
       "      <td>Ohio</td>\n",
       "      <td>2000.0</td>\n",
       "      <td>1.5</td>\n",
       "      <td>1333.333333</td>\n",
       "      <td>3000.0</td>\n",
       "    </tr>\n",
       "    <tr>\n",
       "      <th>1</th>\n",
       "      <td>New York</td>\n",
       "      <td>2002.0</td>\n",
       "      <td>3.6</td>\n",
       "      <td>556.111111</td>\n",
       "      <td>7207.2</td>\n",
       "    </tr>\n",
       "    <tr>\n",
       "      <th>2</th>\n",
       "      <td>Nevada</td>\n",
       "      <td>2002.0</td>\n",
       "      <td>2.9</td>\n",
       "      <td>690.344828</td>\n",
       "      <td>5805.8</td>\n",
       "    </tr>\n",
       "    <tr>\n",
       "      <th>3</th>\n",
       "      <td>Nevada</td>\n",
       "      <td>2003.0</td>\n",
       "      <td>3.2</td>\n",
       "      <td>625.937500</td>\n",
       "      <td>6409.6</td>\n",
       "    </tr>\n",
       "    <tr>\n",
       "      <th>4</th>\n",
       "      <td>UTA</td>\n",
       "      <td>2001.0</td>\n",
       "      <td>4.2</td>\n",
       "      <td>476.428571</td>\n",
       "      <td>8404.2</td>\n",
       "    </tr>\n",
       "  </tbody>\n",
       "</table>\n",
       "</div>"
      ]
     },
     "execution_count": 42,
     "metadata": {},
     "output_type": "execute_result"
    }
   ],
   "execution_count": 42
  },
  {
   "metadata": {
    "ExecuteTime": {
     "end_time": "2025-03-03T11:20:01.631354Z",
     "start_time": "2025-03-03T11:20:01.622514Z"
    }
   },
   "cell_type": "code",
   "source": "frame[[\"year\", \"pop\", \"year_per_pop\", \"year_mul_pop\"]].corr()",
   "id": "21c3501ced44616",
   "outputs": [
    {
     "data": {
      "text/plain": [
       "                  year       pop  year_per_pop  year_mul_pop\n",
       "year          1.000000  0.469636     -0.667468      0.470893\n",
       "pop           0.469636  1.000000     -0.963299      0.999999\n",
       "year_per_pop -0.667468 -0.963299      1.000000     -0.963628\n",
       "year_mul_pop  0.470893  0.999999     -0.963628      1.000000"
      ],
      "text/html": [
       "<div>\n",
       "<style scoped>\n",
       "    .dataframe tbody tr th:only-of-type {\n",
       "        vertical-align: middle;\n",
       "    }\n",
       "\n",
       "    .dataframe tbody tr th {\n",
       "        vertical-align: top;\n",
       "    }\n",
       "\n",
       "    .dataframe thead th {\n",
       "        text-align: right;\n",
       "    }\n",
       "</style>\n",
       "<table border=\"1\" class=\"dataframe\">\n",
       "  <thead>\n",
       "    <tr style=\"text-align: right;\">\n",
       "      <th></th>\n",
       "      <th>year</th>\n",
       "      <th>pop</th>\n",
       "      <th>year_per_pop</th>\n",
       "      <th>year_mul_pop</th>\n",
       "    </tr>\n",
       "  </thead>\n",
       "  <tbody>\n",
       "    <tr>\n",
       "      <th>year</th>\n",
       "      <td>1.000000</td>\n",
       "      <td>0.469636</td>\n",
       "      <td>-0.667468</td>\n",
       "      <td>0.470893</td>\n",
       "    </tr>\n",
       "    <tr>\n",
       "      <th>pop</th>\n",
       "      <td>0.469636</td>\n",
       "      <td>1.000000</td>\n",
       "      <td>-0.963299</td>\n",
       "      <td>0.999999</td>\n",
       "    </tr>\n",
       "    <tr>\n",
       "      <th>year_per_pop</th>\n",
       "      <td>-0.667468</td>\n",
       "      <td>-0.963299</td>\n",
       "      <td>1.000000</td>\n",
       "      <td>-0.963628</td>\n",
       "    </tr>\n",
       "    <tr>\n",
       "      <th>year_mul_pop</th>\n",
       "      <td>0.470893</td>\n",
       "      <td>0.999999</td>\n",
       "      <td>-0.963628</td>\n",
       "      <td>1.000000</td>\n",
       "    </tr>\n",
       "  </tbody>\n",
       "</table>\n",
       "</div>"
      ]
     },
     "execution_count": 43,
     "metadata": {},
     "output_type": "execute_result"
    }
   ],
   "execution_count": 43
  },
  {
   "metadata": {},
   "cell_type": "code",
   "outputs": [],
   "execution_count": null,
   "source": "",
   "id": "3df06e1cc5305a2b"
  },
  {
   "metadata": {
    "ExecuteTime": {
     "end_time": "2025-03-03T11:23:25.153299Z",
     "start_time": "2025-03-03T11:23:25.136605Z"
    }
   },
   "cell_type": "code",
   "source": [
    "df_titanic = pd.read_csv(\"src/train.csv\")\n",
    "df_titanic"
   ],
   "id": "8e63e968fcc07aab",
   "outputs": [
    {
     "data": {
      "text/plain": [
       "     PassengerId  Survived  Pclass  \\\n",
       "0              1         0       3   \n",
       "1              2         1       1   \n",
       "2              3         1       3   \n",
       "3              4         1       1   \n",
       "4              5         0       3   \n",
       "..           ...       ...     ...   \n",
       "886          887         0       2   \n",
       "887          888         1       1   \n",
       "888          889         0       3   \n",
       "889          890         1       1   \n",
       "890          891         0       3   \n",
       "\n",
       "                                                  Name     Sex   Age  SibSp  \\\n",
       "0                              Braund, Mr. Owen Harris    male  22.0      1   \n",
       "1    Cumings, Mrs. John Bradley (Florence Briggs Th...  female  38.0      1   \n",
       "2                               Heikkinen, Miss. Laina  female  26.0      0   \n",
       "3         Futrelle, Mrs. Jacques Heath (Lily May Peel)  female  35.0      1   \n",
       "4                             Allen, Mr. William Henry    male  35.0      0   \n",
       "..                                                 ...     ...   ...    ...   \n",
       "886                              Montvila, Rev. Juozas    male  27.0      0   \n",
       "887                       Graham, Miss. Margaret Edith  female  19.0      0   \n",
       "888           Johnston, Miss. Catherine Helen \"Carrie\"  female   NaN      1   \n",
       "889                              Behr, Mr. Karl Howell    male  26.0      0   \n",
       "890                                Dooley, Mr. Patrick    male  32.0      0   \n",
       "\n",
       "     Parch            Ticket     Fare Cabin Embarked  \n",
       "0        0         A/5 21171   7.2500   NaN        S  \n",
       "1        0          PC 17599  71.2833   C85        C  \n",
       "2        0  STON/O2. 3101282   7.9250   NaN        S  \n",
       "3        0            113803  53.1000  C123        S  \n",
       "4        0            373450   8.0500   NaN        S  \n",
       "..     ...               ...      ...   ...      ...  \n",
       "886      0            211536  13.0000   NaN        S  \n",
       "887      0            112053  30.0000   B42        S  \n",
       "888      2        W./C. 6607  23.4500   NaN        S  \n",
       "889      0            111369  30.0000  C148        C  \n",
       "890      0            370376   7.7500   NaN        Q  \n",
       "\n",
       "[891 rows x 12 columns]"
      ],
      "text/html": [
       "<div>\n",
       "<style scoped>\n",
       "    .dataframe tbody tr th:only-of-type {\n",
       "        vertical-align: middle;\n",
       "    }\n",
       "\n",
       "    .dataframe tbody tr th {\n",
       "        vertical-align: top;\n",
       "    }\n",
       "\n",
       "    .dataframe thead th {\n",
       "        text-align: right;\n",
       "    }\n",
       "</style>\n",
       "<table border=\"1\" class=\"dataframe\">\n",
       "  <thead>\n",
       "    <tr style=\"text-align: right;\">\n",
       "      <th></th>\n",
       "      <th>PassengerId</th>\n",
       "      <th>Survived</th>\n",
       "      <th>Pclass</th>\n",
       "      <th>Name</th>\n",
       "      <th>Sex</th>\n",
       "      <th>Age</th>\n",
       "      <th>SibSp</th>\n",
       "      <th>Parch</th>\n",
       "      <th>Ticket</th>\n",
       "      <th>Fare</th>\n",
       "      <th>Cabin</th>\n",
       "      <th>Embarked</th>\n",
       "    </tr>\n",
       "  </thead>\n",
       "  <tbody>\n",
       "    <tr>\n",
       "      <th>0</th>\n",
       "      <td>1</td>\n",
       "      <td>0</td>\n",
       "      <td>3</td>\n",
       "      <td>Braund, Mr. Owen Harris</td>\n",
       "      <td>male</td>\n",
       "      <td>22.0</td>\n",
       "      <td>1</td>\n",
       "      <td>0</td>\n",
       "      <td>A/5 21171</td>\n",
       "      <td>7.2500</td>\n",
       "      <td>NaN</td>\n",
       "      <td>S</td>\n",
       "    </tr>\n",
       "    <tr>\n",
       "      <th>1</th>\n",
       "      <td>2</td>\n",
       "      <td>1</td>\n",
       "      <td>1</td>\n",
       "      <td>Cumings, Mrs. John Bradley (Florence Briggs Th...</td>\n",
       "      <td>female</td>\n",
       "      <td>38.0</td>\n",
       "      <td>1</td>\n",
       "      <td>0</td>\n",
       "      <td>PC 17599</td>\n",
       "      <td>71.2833</td>\n",
       "      <td>C85</td>\n",
       "      <td>C</td>\n",
       "    </tr>\n",
       "    <tr>\n",
       "      <th>2</th>\n",
       "      <td>3</td>\n",
       "      <td>1</td>\n",
       "      <td>3</td>\n",
       "      <td>Heikkinen, Miss. Laina</td>\n",
       "      <td>female</td>\n",
       "      <td>26.0</td>\n",
       "      <td>0</td>\n",
       "      <td>0</td>\n",
       "      <td>STON/O2. 3101282</td>\n",
       "      <td>7.9250</td>\n",
       "      <td>NaN</td>\n",
       "      <td>S</td>\n",
       "    </tr>\n",
       "    <tr>\n",
       "      <th>3</th>\n",
       "      <td>4</td>\n",
       "      <td>1</td>\n",
       "      <td>1</td>\n",
       "      <td>Futrelle, Mrs. Jacques Heath (Lily May Peel)</td>\n",
       "      <td>female</td>\n",
       "      <td>35.0</td>\n",
       "      <td>1</td>\n",
       "      <td>0</td>\n",
       "      <td>113803</td>\n",
       "      <td>53.1000</td>\n",
       "      <td>C123</td>\n",
       "      <td>S</td>\n",
       "    </tr>\n",
       "    <tr>\n",
       "      <th>4</th>\n",
       "      <td>5</td>\n",
       "      <td>0</td>\n",
       "      <td>3</td>\n",
       "      <td>Allen, Mr. William Henry</td>\n",
       "      <td>male</td>\n",
       "      <td>35.0</td>\n",
       "      <td>0</td>\n",
       "      <td>0</td>\n",
       "      <td>373450</td>\n",
       "      <td>8.0500</td>\n",
       "      <td>NaN</td>\n",
       "      <td>S</td>\n",
       "    </tr>\n",
       "    <tr>\n",
       "      <th>...</th>\n",
       "      <td>...</td>\n",
       "      <td>...</td>\n",
       "      <td>...</td>\n",
       "      <td>...</td>\n",
       "      <td>...</td>\n",
       "      <td>...</td>\n",
       "      <td>...</td>\n",
       "      <td>...</td>\n",
       "      <td>...</td>\n",
       "      <td>...</td>\n",
       "      <td>...</td>\n",
       "      <td>...</td>\n",
       "    </tr>\n",
       "    <tr>\n",
       "      <th>886</th>\n",
       "      <td>887</td>\n",
       "      <td>0</td>\n",
       "      <td>2</td>\n",
       "      <td>Montvila, Rev. Juozas</td>\n",
       "      <td>male</td>\n",
       "      <td>27.0</td>\n",
       "      <td>0</td>\n",
       "      <td>0</td>\n",
       "      <td>211536</td>\n",
       "      <td>13.0000</td>\n",
       "      <td>NaN</td>\n",
       "      <td>S</td>\n",
       "    </tr>\n",
       "    <tr>\n",
       "      <th>887</th>\n",
       "      <td>888</td>\n",
       "      <td>1</td>\n",
       "      <td>1</td>\n",
       "      <td>Graham, Miss. Margaret Edith</td>\n",
       "      <td>female</td>\n",
       "      <td>19.0</td>\n",
       "      <td>0</td>\n",
       "      <td>0</td>\n",
       "      <td>112053</td>\n",
       "      <td>30.0000</td>\n",
       "      <td>B42</td>\n",
       "      <td>S</td>\n",
       "    </tr>\n",
       "    <tr>\n",
       "      <th>888</th>\n",
       "      <td>889</td>\n",
       "      <td>0</td>\n",
       "      <td>3</td>\n",
       "      <td>Johnston, Miss. Catherine Helen \"Carrie\"</td>\n",
       "      <td>female</td>\n",
       "      <td>NaN</td>\n",
       "      <td>1</td>\n",
       "      <td>2</td>\n",
       "      <td>W./C. 6607</td>\n",
       "      <td>23.4500</td>\n",
       "      <td>NaN</td>\n",
       "      <td>S</td>\n",
       "    </tr>\n",
       "    <tr>\n",
       "      <th>889</th>\n",
       "      <td>890</td>\n",
       "      <td>1</td>\n",
       "      <td>1</td>\n",
       "      <td>Behr, Mr. Karl Howell</td>\n",
       "      <td>male</td>\n",
       "      <td>26.0</td>\n",
       "      <td>0</td>\n",
       "      <td>0</td>\n",
       "      <td>111369</td>\n",
       "      <td>30.0000</td>\n",
       "      <td>C148</td>\n",
       "      <td>C</td>\n",
       "    </tr>\n",
       "    <tr>\n",
       "      <th>890</th>\n",
       "      <td>891</td>\n",
       "      <td>0</td>\n",
       "      <td>3</td>\n",
       "      <td>Dooley, Mr. Patrick</td>\n",
       "      <td>male</td>\n",
       "      <td>32.0</td>\n",
       "      <td>0</td>\n",
       "      <td>0</td>\n",
       "      <td>370376</td>\n",
       "      <td>7.7500</td>\n",
       "      <td>NaN</td>\n",
       "      <td>Q</td>\n",
       "    </tr>\n",
       "  </tbody>\n",
       "</table>\n",
       "<p>891 rows × 12 columns</p>\n",
       "</div>"
      ]
     },
     "execution_count": 45,
     "metadata": {},
     "output_type": "execute_result"
    }
   ],
   "execution_count": 45
  },
  {
   "metadata": {
    "ExecuteTime": {
     "end_time": "2025-03-03T11:24:35.659306Z",
     "start_time": "2025-03-03T11:24:34.772497Z"
    }
   },
   "cell_type": "code",
   "source": "df_titanic[\"Age\"].plot(kind=\"hist\")",
   "id": "cbf7a289939ac8fa",
   "outputs": [
    {
     "data": {
      "text/plain": [
       "<Axes: ylabel='Frequency'>"
      ]
     },
     "execution_count": 46,
     "metadata": {},
     "output_type": "execute_result"
    },
    {
     "data": {
      "text/plain": [
       "<Figure size 640x480 with 1 Axes>"
      ],
      "image/png": "[encoded data removed]"
     },
     "metadata": {},
     "output_type": "display_data"
    }
   ],
   "execution_count": 46
  },
  {
   "metadata": {
    "ExecuteTime": {
     "end_time": "2025-03-03T11:24:49.913274Z",
     "start_time": "2025-03-03T11:24:49.762586Z"
    }
   },
   "cell_type": "code",
   "source": "df_titanic.plot(kind=\"scatter\", x=\"Age\", y=\"Fare\")",
   "id": "2fd771784562a69f",
   "outputs": [
    {
     "data": {
      "text/plain": [
       "<Axes: xlabel='Age', ylabel='Fare'>"
      ]
     },
     "execution_count": 47,
     "metadata": {},
     "output_type": "execute_result"
    },
    {
     "data": {
      "text/plain": [
       "<Figure size 640x480 with 1 Axes>"
      ],
      "image/png": "[encoded data removed]"
     },
     "metadata": {},
     "output_type": "display_data"
    }
   ],
   "execution_count": 47
  },
  {
   "metadata": {
    "ExecuteTime": {
     "end_time": "2025-03-03T11:25:02.951980Z",
     "start_time": "2025-03-03T11:25:02.946443Z"
    }
   },
   "cell_type": "code",
   "source": "df_titanic[\"Sex_Num\"] = [0 if val == \"male\" else 1 for val in list(df_titanic[\"Sex\"])]",
   "id": "f9da4300c4032981",
   "outputs": [],
   "execution_count": 48
  },
  {
   "metadata": {
    "ExecuteTime": {
     "end_time": "2025-03-03T11:25:11.795041Z",
     "start_time": "2025-03-03T11:25:11.662273Z"
    }
   },
   "cell_type": "code",
   "source": "df_titanic.plot(kind=\"scatter\", x=\"Age\", y=\"Sex_Num\")",
   "id": "72cec0e5606a9e2f",
   "outputs": [
    {
     "data": {
      "text/plain": [
       "<Axes: xlabel='Age', ylabel='Sex_Num'>"
      ]
     },
     "execution_count": 49,
     "metadata": {},
     "output_type": "execute_result"
    },
    {
     "data": {
      "text/plain": [
       "<Figure size 640x480 with 1 Axes>"
      ],
      "image/png": "[encoded data removed]"
     },
     "metadata": {},
     "output_type": "display_data"
    }
   ],
   "execution_count": 49
  },
  {
   "metadata": {
    "ExecuteTime": {
     "end_time": "2025-03-03T11:25:24.186196Z",
     "start_time": "2025-03-03T11:25:24.062790Z"
    }
   },
   "cell_type": "code",
   "source": "df_titanic.plot(kind=\"scatter\", x=\"Fare\", y=\"Sex_Num\")",
   "id": "9f1a9abe907e82f7",
   "outputs": [
    {
     "data": {
      "text/plain": [
       "<Axes: xlabel='Fare', ylabel='Sex_Num'>"
      ]
     },
     "execution_count": 50,
     "metadata": {},
     "output_type": "execute_result"
    },
    {
     "data": {
      "text/plain": [
       "<Figure size 640x480 with 1 Axes>"
      ],
      "image/png": "[encoded data removed]"
     },
     "metadata": {},
     "output_type": "display_data"
    }
   ],
   "execution_count": 50
  },
  {
   "metadata": {
    "ExecuteTime": {
     "end_time": "2025-03-03T11:26:31.971667Z",
     "start_time": "2025-03-03T11:26:31.879177Z"
    }
   },
   "cell_type": "code",
   "source": "df_titanic[[\"Age\", \"Fare\"]].plot(kind='box')",
   "id": "29e1c235bd7d6c61",
   "outputs": [
    {
     "data": {
      "text/plain": [
       "<Axes: >"
      ]
     },
     "execution_count": 53,
     "metadata": {},
     "output_type": "execute_result"
    },
    {
     "data": {
      "text/plain": [
       "<Figure size 640x480 with 1 Axes>"
      ],
      "image/png": "[encoded data removed]"
     },
     "metadata": {},
     "output_type": "display_data"
    }
   ],
   "execution_count": 53
  },
  {
   "metadata": {},
   "cell_type": "code",
   "outputs": [],
   "execution_count": null,
   "source": "",
   "id": "f679e6912745231b"
  }
 ],
 "metadata": {
  "kernelspec": {
   "display_name": "Python 3",
   "language": "python",
   "name": "python3"
  },
  "language_info": {
   "codemirror_mode": {
    "name": "ipython",
    "version": 2
   },
   "file_extension": ".py",
   "mimetype": "text/x-python",
   "name": "python",
   "nbconvert_exporter": "python",
   "pygments_lexer": "ipython2",
   "version": "2.7.6"
  }
 },
 "nbformat": 4,
 "nbformat_minor": 5
}
