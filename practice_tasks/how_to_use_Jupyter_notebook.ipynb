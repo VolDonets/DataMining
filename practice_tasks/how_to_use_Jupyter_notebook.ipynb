{
 "cells": [
  {
   "metadata": {},
   "cell_type": "markdown",
   "source": [
    "The Jupyter Notebooks have 2 modes:\n",
    "1. Editing cells (`Enter` to go)\n",
    "2. Manipulating cells (`Esc` to go)"
   ],
   "id": "572ceda12a8b4432"
  },
  {
   "metadata": {},
   "cell_type": "markdown",
   "source": [
    "* `B` create cell bellow\n",
    "* `A` create cell abow\n",
    "* `M` to Markdown format\n",
    "* `Y` to Code format\n",
    "* `DD` to Delete cell"
   ],
   "id": "768613ef72c6e9ec"
  },
  {
   "metadata": {},
   "cell_type": "code",
   "outputs": [],
   "execution_count": null,
   "source": "# Current cell",
   "id": "3b468d017013e145"
  },
  {
   "metadata": {},
   "cell_type": "markdown",
   "source": "# Basics Markdown",
   "id": "7d4cafdee9978fe7"
  },
  {
   "metadata": {},
   "cell_type": "markdown",
   "source": [
    "# Header 1\n",
    "## Header 2\n",
    "### Header 3\n",
    "\n",
    "# Bullet list\n",
    "* option 0\n",
    "* option 1\n",
    "* option 2\n",
    "    * aaa 0\n",
    "    * aaa 1\n",
    "\n",
    "# Numbered list\n",
    "1. option 0\n",
    "2. option 1\n",
    "3. option 2\n",
    "\n",
    "# Base formatting\n",
    "**Bolt style** \n",
    "\n",
    "*Italic style*\n",
    "\n",
    "`Special Hightlight`"
   ],
   "id": "b20efddc379f7310"
  },
  {
   "metadata": {},
   "cell_type": "markdown",
   "source": "More on [Markdown Formatting](https://www.markdownguide.org/basic-syntax/)",
   "id": "d2af82076af14e01"
  },
  {
   "metadata": {},
   "cell_type": "code",
   "outputs": [],
   "execution_count": null,
   "source": "",
   "id": "5311ea94302ce64"
  },
  {
   "metadata": {},
   "cell_type": "markdown",
   "source": "# Using HTML",
   "id": "fb95283b05812b01"
  },
  {
   "metadata": {},
   "cell_type": "markdown",
   "source": [
    "<ol>\n",
    "  <li>First item</li>\n",
    "  <li>Second item</li>\n",
    "  <li>Third item\n",
    "    <ol>\n",
    "      <li>Indented item</li>\n",
    "      <li>Indented item</li>\n",
    "    </ol>\n",
    "  </li>\n",
    "  <li>Fourth item</li>\n",
    "</ol> "
   ],
   "id": "e2a4e4504c02a2ff"
  },
  {
   "metadata": {},
   "cell_type": "code",
   "outputs": [],
   "execution_count": null,
   "source": "",
   "id": "314129b7707cae9"
  },
  {
   "metadata": {},
   "cell_type": "markdown",
   "source": "# Loading Images into Markdown",
   "id": "e3904dd0fa0fc1f2"
  },
  {
   "metadata": {},
   "cell_type": "markdown",
   "source": "![Image of Cat](src/cat_img.jpg)",
   "id": "60421fa9e2fd0fc5"
  },
  {
   "metadata": {},
   "cell_type": "code",
   "outputs": [],
   "execution_count": null,
   "source": "",
   "id": "972db84a3014f5df"
  },
  {
   "metadata": {},
   "cell_type": "markdown",
   "source": "# Creating Tables",
   "id": "9c2c6c3ab29555b6"
  },
  {
   "metadata": {},
   "cell_type": "markdown",
   "source": [
    "# Markdown format for Tables\n",
    "\n",
    "| No | First Name | Last Name | Grade |\n",
    "|----|------------|-----------|---|\n",
    "| 1 | Vol        | Donets    | 39 |\n",
    "| 2 | Bob        | Catz      | 19 |\n",
    "| 3 | Jim | Bobs | 38 |"
   ],
   "id": "48c905d397dab943"
  },
  {
   "metadata": {},
   "cell_type": "markdown",
   "source": "# HTML Table",
   "id": "50f4e454c2251a00"
  },
  {
   "metadata": {},
   "cell_type": "markdown",
   "source": [
    "<table>\n",
    "    <thead>\n",
    "        <tr>\n",
    "            <th>No</th>\n",
    "            <th>First Name</th>\n",
    "            <th>Last Name</th>\n",
    "            <th>Grade</th>\n",
    "        </tr>\n",
    "    </thead>\n",
    "    <tbody>\n",
    "        <tr>\n",
    "            <td>1</td>\n",
    "            <td>Vol</td>\n",
    "            <td>Donets</td>\n",
    "            <td>39</td>\n",
    "        </tr>\n",
    "        <tr>\n",
    "            <td>2</td>\n",
    "            <td>Bob</td>\n",
    "            <td>Catz</td>\n",
    "            <td>19</td>\n",
    "        </tr>\n",
    "        <tr>\n",
    "            <td>3</td>\n",
    "            <td>Jim</td>\n",
    "            <td>Bobs</td>\n",
    "            <td>38</td>\n",
    "        </tr>\n",
    "    </tbody>\n",
    "</table>"
   ],
   "id": "b0e8a5f0db96b0a1"
  },
  {
   "metadata": {},
   "cell_type": "markdown",
   "source": [
    "<table>\n",
    "    <thead>\n",
    "        <tr>\n",
    "            <th class=\"header-main\" rowspan=\"2\">Student ID</th>\n",
    "            <th class=\"header-main\" colspan=\"2\">Student Name</th>\n",
    "            <th class=\"header-main\" colspan=\"3\">Grades</th>\n",
    "        </tr>\n",
    "        <tr>\n",
    "            <th class=\"header-sub\">First Name</th>\n",
    "            <th class=\"header-sub\">Last Name</th>\n",
    "            <th class=\"header-sub\">Math</th>\n",
    "            <th class=\"header-sub\">Science</th>\n",
    "            <th class=\"header-sub\">English</th>\n",
    "        </tr>\n",
    "    </thead>\n",
    "    <tbody>\n",
    "        <tr>\n",
    "            <td>1</td>\n",
    "            <td>Vol</td>\n",
    "            <td>Donets</td>\n",
    "            <td>85</td>\n",
    "            <td>90</td>\n",
    "            <td>78</td>\n",
    "        </tr>\n",
    "        <tr>\n",
    "            <td>2</td>\n",
    "            <td>Bob</td>\n",
    "            <td>Catz</td>\n",
    "            <td>88</td>\n",
    "            <td>92</td>\n",
    "            <td>84</td>\n",
    "        </tr>\n",
    "        <tr>\n",
    "            <td>3</td>\n",
    "            <td>Jim</td>\n",
    "            <td>Bobs</td>\n",
    "            <td>90</td>\n",
    "            <td>87</td>\n",
    "            <td>89</td>\n",
    "        </tr>\n",
    "    </tbody>\n",
    "</table>"
   ],
   "id": "7b058b2736b819b"
  },
  {
   "metadata": {},
   "cell_type": "code",
   "outputs": [],
   "execution_count": null,
   "source": "",
   "id": "889b4f32f2a628b3"
  }
 ],
 "metadata": {
  "kernelspec": {
   "display_name": "Python 3",
   "language": "python",
   "name": "python3"
  },
  "language_info": {
   "codemirror_mode": {
    "name": "ipython",
    "version": 2
   },
   "file_extension": ".py",
   "mimetype": "text/x-python",
   "name": "python",
   "nbconvert_exporter": "python",
   "pygments_lexer": "ipython2",
   "version": "2.7.6"
  }
 },
 "nbformat": 4,
 "nbformat_minor": 5
}
