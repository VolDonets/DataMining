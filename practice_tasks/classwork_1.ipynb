{
 "cells": [
  {
   "metadata": {},
   "cell_type": "markdown",
   "source": "# Task 1: x in [1, 3]",
   "id": "88dd25e87ee2242e"
  },
  {
   "metadata": {},
   "cell_type": "code",
   "outputs": [],
   "execution_count": null,
   "source": [
    "# void do_task_1_in_cpp(int x) {\n",
    "#     if (...) {\n",
    "#     \n",
    "#     } else {\n",
    "#     \n",
    "#     }   \n",
    "# }"
   ],
   "id": "b8f88f0d7b5dd9fb"
  },
  {
   "metadata": {
    "ExecuteTime": {
     "end_time": "2025-02-10T13:01:06.247015Z",
     "start_time": "2025-02-10T13:01:06.243295Z"
    }
   },
   "cell_type": "code",
   "source": [
    "def do_task_1(x):\n",
    "    if 1 <= x <= 3:\n",
    "        print(\"x in [1, 3]\")\n",
    "        print(\"x in [1, 3]\")\n",
    "        print(\"x in [1, 3]\")\n",
    "        print(\"x in [1, 3]\")\n",
    "        print(\"x in [1, 3]\")\n",
    "    else:\n",
    "        print(\"x NOT in [1, 3]\")"
   ],
   "id": "d4d51d4d80fa90f3",
   "outputs": [],
   "execution_count": 25
  },
  {
   "metadata": {
    "ExecuteTime": {
     "end_time": "2025-02-10T12:55:28.357271Z",
     "start_time": "2025-02-10T12:55:28.353113Z"
    }
   },
   "cell_type": "code",
   "source": "do_task_1(1)",
   "id": "b56c24b8297ab13c",
   "outputs": [
    {
     "name": "stdout",
     "output_type": "stream",
     "text": [
      "x in [1, 3]\n",
      "x in [1, 3]\n",
      "x in [1, 3]\n",
      "x in [1, 3]\n",
      "x in [1, 3]\n"
     ]
    }
   ],
   "execution_count": 20
  },
  {
   "metadata": {
    "ExecuteTime": {
     "end_time": "2025-02-10T12:56:12.234116Z",
     "start_time": "2025-02-10T12:56:12.230005Z"
    }
   },
   "cell_type": "code",
   "source": "do_task_1(x=2)",
   "id": "44ee0087556fa81a",
   "outputs": [
    {
     "name": "stdout",
     "output_type": "stream",
     "text": [
      "x in [1, 3]\n",
      "x in [1, 3]\n",
      "x in [1, 3]\n",
      "x in [1, 3]\n",
      "x in [1, 3]\n"
     ]
    }
   ],
   "execution_count": 21
  },
  {
   "metadata": {
    "ExecuteTime": {
     "end_time": "2025-02-10T12:56:12.961562Z",
     "start_time": "2025-02-10T12:56:12.955806Z"
    }
   },
   "cell_type": "code",
   "source": "do_task_1(x=1.5)",
   "id": "d8aba695e5b1955a",
   "outputs": [
    {
     "name": "stdout",
     "output_type": "stream",
     "text": [
      "x in [1, 3]\n",
      "x in [1, 3]\n",
      "x in [1, 3]\n",
      "x in [1, 3]\n",
      "x in [1, 3]\n"
     ]
    }
   ],
   "execution_count": 22
  },
  {
   "metadata": {
    "ExecuteTime": {
     "end_time": "2025-02-10T12:56:13.419082Z",
     "start_time": "2025-02-10T12:56:13.415169Z"
    }
   },
   "cell_type": "code",
   "source": "do_task_1(x=1_000_000)",
   "id": "fcbe7afc60848ac4",
   "outputs": [
    {
     "name": "stdout",
     "output_type": "stream",
     "text": [
      "x NOT in [1, 3]\n"
     ]
    }
   ],
   "execution_count": 23
  },
  {
   "metadata": {},
   "cell_type": "code",
   "source": "",
   "id": "cc98beffd16c7a33",
   "outputs": [],
   "execution_count": null
  },
  {
   "metadata": {},
   "cell_type": "markdown",
   "source": "# for-loop",
   "id": "3104ae0328b1690f"
  },
  {
   "metadata": {},
   "cell_type": "code",
   "source": [
    "# C++\n",
    "# for (int i = 1; i < 10; i++) {\n",
    "#   ...\n",
    "# }\n",
    "\n",
    "# for-each\n",
    "# int aaa[] = {1, 2, 3, }\n",
    "# for (int a: aaa) {\n",
    "# ...\n",
    "# }"
   ],
   "id": "3d382100bca27bc3",
   "outputs": [],
   "execution_count": null
  },
  {
   "metadata": {},
   "cell_type": "code",
   "source": "aaa = [1, 2, 3, 4, 5, 6, 7, 8, 9, 10]",
   "id": "7d8fca0cb0faa8c9",
   "outputs": [],
   "execution_count": null
  },
  {
   "metadata": {},
   "cell_type": "code",
   "source": [
    "for a in aaa:\n",
    "    print(a)"
   ],
   "id": "f9b7f0b6687d32b5",
   "outputs": [],
   "execution_count": null
  },
  {
   "metadata": {},
   "cell_type": "code",
   "source": [
    "for inx in range(len(aaa)):\n",
    "    print(aaa[inx])"
   ],
   "id": "ea77efbf65837811",
   "outputs": [],
   "execution_count": null
  },
  {
   "metadata": {},
   "cell_type": "code",
   "source": "list(range(len(aaa)))",
   "id": "35f3954a7133820c",
   "outputs": [],
   "execution_count": null
  },
  {
   "metadata": {},
   "cell_type": "code",
   "source": "",
   "id": "69b184dcad1f8bd9",
   "outputs": [],
   "execution_count": null
  },
  {
   "metadata": {},
   "cell_type": "code",
   "source": "",
   "id": "359e710a3f9b7eaa",
   "outputs": [],
   "execution_count": null
  },
  {
   "metadata": {},
   "cell_type": "code",
   "source": "",
   "id": "cacde8878c1d2262",
   "outputs": [],
   "execution_count": null
  },
  {
   "metadata": {},
   "cell_type": "code",
   "source": "",
   "id": "3ebe0decd2d8f70a",
   "outputs": [],
   "execution_count": null
  },
  {
   "metadata": {},
   "cell_type": "code",
   "source": "",
   "id": "a39ce34624ade572",
   "outputs": [],
   "execution_count": null
  }
 ],
 "metadata": {
  "kernelspec": {
   "display_name": "Python 3",
   "language": "python",
   "name": "python3"
  },
  "language_info": {
   "codemirror_mode": {
    "name": "ipython",
    "version": 2
   },
   "file_extension": ".py",
   "mimetype": "text/x-python",
   "name": "python",
   "nbconvert_exporter": "python",
   "pygments_lexer": "ipython2",
   "version": "2.7.6"
  }
 },
 "nbformat": 4,
 "nbformat_minor": 5
}
