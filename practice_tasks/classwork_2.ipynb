{
 "cells": [
  {
   "metadata": {},
   "cell_type": "markdown",
   "source": "# list, tuple, dict",
   "id": "374b96adba13e6fb"
  },
  {
   "metadata": {
    "ExecuteTime": {
     "end_time": "2025-02-17T11:51:18.149303Z",
     "start_time": "2025-02-17T11:51:18.143544Z"
    }
   },
   "cell_type": "code",
   "source": "a = 5",
   "id": "da2fcae4d694fc66",
   "outputs": [],
   "execution_count": 98
  },
  {
   "metadata": {
    "ExecuteTime": {
     "end_time": "2025-02-17T11:51:38.399097Z",
     "start_time": "2025-02-17T11:51:38.395550Z"
    }
   },
   "cell_type": "code",
   "source": "a = \"aaa\"",
   "id": "720c11a85314f2bf",
   "outputs": [],
   "execution_count": 99
  },
  {
   "metadata": {},
   "cell_type": "markdown",
   "source": [
    "| aaa | bbb | ccc  |\n",
    "|-----|-----|------|\n",
    "| aaa | bbb | ccc  |\n",
    "| aaa | bbb | ccc  |"
   ],
   "id": "ca6faba4078f181b"
  },
  {
   "metadata": {},
   "cell_type": "markdown",
   "source": "## List",
   "id": "9b22c56713e610df"
  },
  {
   "metadata": {
    "ExecuteTime": {
     "end_time": "2025-02-17T11:53:29.846153Z",
     "start_time": "2025-02-17T11:53:29.841643Z"
    }
   },
   "cell_type": "code",
   "source": "a = [1, 2, \"a\", True, \"bbash \", \"False\", 0.112, [1, 2, 3]]",
   "id": "e7e7179380a6d99a",
   "outputs": [],
   "execution_count": 101
  },
  {
   "metadata": {
    "ExecuteTime": {
     "end_time": "2025-02-17T11:53:34.243250Z",
     "start_time": "2025-02-17T11:53:34.236214Z"
    }
   },
   "cell_type": "code",
   "source": "a",
   "id": "1a46e752ae3571fc",
   "outputs": [
    {
     "data": {
      "text/plain": [
       "[1, 2, 'a', True, 'bbash ', 'False', 0.112, [1, 2, 3]]"
      ]
     },
     "execution_count": 102,
     "metadata": {},
     "output_type": "execute_result"
    }
   ],
   "execution_count": 102
  },
  {
   "metadata": {
    "ExecuteTime": {
     "end_time": "2025-02-17T11:54:34.674232Z",
     "start_time": "2025-02-17T11:54:34.670105Z"
    }
   },
   "cell_type": "code",
   "source": [
    "my_str = \"I like wonderful lessons of Data Mining!\"\n",
    "a = my_str.split()"
   ],
   "id": "4d1a27bc1812d401",
   "outputs": [],
   "execution_count": 107
  },
  {
   "metadata": {
    "ExecuteTime": {
     "end_time": "2025-02-17T11:54:37.529347Z",
     "start_time": "2025-02-17T11:54:37.524302Z"
    }
   },
   "cell_type": "code",
   "source": "a",
   "id": "6e85f856762078f7",
   "outputs": [
    {
     "data": {
      "text/plain": [
       "['I', 'like', 'wonderful', 'lessons', 'of', 'Data', 'Mining!']"
      ]
     },
     "execution_count": 108,
     "metadata": {},
     "output_type": "execute_result"
    }
   ],
   "execution_count": 108
  },
  {
   "metadata": {
    "ExecuteTime": {
     "end_time": "2025-02-17T11:54:40.006903Z",
     "start_time": "2025-02-17T11:54:40.003711Z"
    }
   },
   "cell_type": "code",
   "source": "a = list(my_str)",
   "id": "860783f9b2496497",
   "outputs": [],
   "execution_count": 109
  },
  {
   "metadata": {
    "ExecuteTime": {
     "end_time": "2025-02-17T11:54:41.830444Z",
     "start_time": "2025-02-17T11:54:41.825365Z"
    }
   },
   "cell_type": "code",
   "source": "print(a)",
   "id": "62fb2bf7de8c3699",
   "outputs": [
    {
     "name": "stdout",
     "output_type": "stream",
     "text": [
      "['I', ' ', 'l', 'i', 'k', 'e', ' ', 'w', 'o', 'n', 'd', 'e', 'r', 'f', 'u', 'l', ' ', 'l', 'e', 's', 's', 'o', 'n', 's', ' ', 'o', 'f', ' ', 'D', 'a', 't', 'a', ' ', 'M', 'i', 'n', 'i', 'n', 'g', '!']\n"
     ]
    }
   ],
   "execution_count": 110
  },
  {
   "metadata": {
    "ExecuteTime": {
     "end_time": "2025-02-17T11:55:01.157399Z",
     "start_time": "2025-02-17T11:55:01.152673Z"
    }
   },
   "cell_type": "code",
   "source": "a = [\"a\",] * 10",
   "id": "cf3299291f8712b7",
   "outputs": [],
   "execution_count": 111
  },
  {
   "metadata": {
    "ExecuteTime": {
     "end_time": "2025-02-17T11:55:03.634451Z",
     "start_time": "2025-02-17T11:55:03.629628Z"
    }
   },
   "cell_type": "code",
   "source": "a",
   "id": "6a3773596015e7d8",
   "outputs": [
    {
     "data": {
      "text/plain": [
       "['a', 'a', 'a', 'a', 'a', 'a', 'a', 'a', 'a', 'a']"
      ]
     },
     "execution_count": 112,
     "metadata": {},
     "output_type": "execute_result"
    }
   ],
   "execution_count": 112
  },
  {
   "metadata": {
    "ExecuteTime": {
     "end_time": "2025-02-17T11:55:17.167477Z",
     "start_time": "2025-02-17T11:55:17.163111Z"
    }
   },
   "cell_type": "code",
   "source": [
    "a = [0, ] * 10\n",
    "a"
   ],
   "id": "dc0763136ac97d79",
   "outputs": [
    {
     "data": {
      "text/plain": [
       "[0, 0, 0, 0, 0, 0, 0, 0, 0, 0]"
      ]
     },
     "execution_count": 114,
     "metadata": {},
     "output_type": "execute_result"
    }
   ],
   "execution_count": 114
  },
  {
   "metadata": {},
   "cell_type": "code",
   "outputs": [],
   "execution_count": null,
   "source": "",
   "id": "9119f17cebdbc8bf"
  },
  {
   "metadata": {
    "ExecuteTime": {
     "end_time": "2025-02-17T11:55:29.669975Z",
     "start_time": "2025-02-17T11:55:29.664983Z"
    }
   },
   "cell_type": "code",
   "source": [
    "a = [1, 3, 0, 10, -1000]\n",
    "a[0] = 38717\n",
    "a"
   ],
   "id": "25f4b02b0bd06ec3",
   "outputs": [
    {
     "data": {
      "text/plain": [
       "[38717, 3, 0, 10, -1000]"
      ]
     },
     "execution_count": 115,
     "metadata": {},
     "output_type": "execute_result"
    }
   ],
   "execution_count": 115
  },
  {
   "metadata": {
    "ExecuteTime": {
     "end_time": "2025-02-17T11:55:44.515959Z",
     "start_time": "2025-02-17T11:55:44.484029Z"
    }
   },
   "cell_type": "code",
   "source": "a[5]",
   "id": "fecc98d9428e4947",
   "outputs": [
    {
     "ename": "IndexError",
     "evalue": "list index out of range",
     "output_type": "error",
     "traceback": [
      "\u001B[1;31m---------------------------------------------------------------------------\u001B[0m",
      "\u001B[1;31mIndexError\u001B[0m                                Traceback (most recent call last)",
      "Cell \u001B[1;32mIn[116], line 1\u001B[0m\n\u001B[1;32m----> 1\u001B[0m \u001B[43ma\u001B[49m\u001B[43m[\u001B[49m\u001B[38;5;241;43m5\u001B[39;49m\u001B[43m]\u001B[49m\n",
      "\u001B[1;31mIndexError\u001B[0m: list index out of range"
     ]
    }
   ],
   "execution_count": 116
  },
  {
   "metadata": {
    "ExecuteTime": {
     "end_time": "2025-02-17T11:56:03.020318Z",
     "start_time": "2025-02-17T11:56:03.016287Z"
    }
   },
   "cell_type": "code",
   "source": "a[-1]",
   "id": "3ae70254d0840f79",
   "outputs": [
    {
     "data": {
      "text/plain": [
       "-1000"
      ]
     },
     "execution_count": 117,
     "metadata": {},
     "output_type": "execute_result"
    }
   ],
   "execution_count": 117
  },
  {
   "metadata": {
    "ExecuteTime": {
     "end_time": "2025-02-17T11:56:15.096023Z",
     "start_time": "2025-02-17T11:56:15.091757Z"
    }
   },
   "cell_type": "code",
   "source": "a[len(a) - 1]",
   "id": "6e75b3d8aa4ab5c1",
   "outputs": [
    {
     "data": {
      "text/plain": [
       "-1000"
      ]
     },
     "execution_count": 118,
     "metadata": {},
     "output_type": "execute_result"
    }
   ],
   "execution_count": 118
  },
  {
   "metadata": {
    "ExecuteTime": {
     "end_time": "2025-02-17T11:56:33.321509Z",
     "start_time": "2025-02-17T11:56:33.316431Z"
    }
   },
   "cell_type": "code",
   "source": "a[-2], a[-3], a[-4], a[-5]",
   "id": "b855cfc54f299437",
   "outputs": [
    {
     "data": {
      "text/plain": [
       "(10, 0, 3, 38717)"
      ]
     },
     "execution_count": 119,
     "metadata": {},
     "output_type": "execute_result"
    }
   ],
   "execution_count": 119
  },
  {
   "metadata": {
    "ExecuteTime": {
     "end_time": "2025-02-17T11:56:45.831149Z",
     "start_time": "2025-02-17T11:56:45.816591Z"
    }
   },
   "cell_type": "code",
   "source": "a[-6]",
   "id": "c54f51a8bf9c7c22",
   "outputs": [
    {
     "ename": "IndexError",
     "evalue": "list index out of range",
     "output_type": "error",
     "traceback": [
      "\u001B[1;31m---------------------------------------------------------------------------\u001B[0m",
      "\u001B[1;31mIndexError\u001B[0m                                Traceback (most recent call last)",
      "Cell \u001B[1;32mIn[120], line 1\u001B[0m\n\u001B[1;32m----> 1\u001B[0m \u001B[43ma\u001B[49m\u001B[43m[\u001B[49m\u001B[38;5;241;43m-\u001B[39;49m\u001B[38;5;241;43m6\u001B[39;49m\u001B[43m]\u001B[49m\n",
      "\u001B[1;31mIndexError\u001B[0m: list index out of range"
     ]
    }
   ],
   "execution_count": 120
  },
  {
   "metadata": {
    "ExecuteTime": {
     "end_time": "2025-02-17T11:57:17.326175Z",
     "start_time": "2025-02-17T11:57:17.322539Z"
    }
   },
   "cell_type": "code",
   "source": [
    "my_list = list(my_str)\n",
    "print(my_list)"
   ],
   "id": "b4fff01a5cfae2e0",
   "outputs": [
    {
     "name": "stdout",
     "output_type": "stream",
     "text": [
      "['I', ' ', 'l', 'i', 'k', 'e', ' ', 'w', 'o', 'n', 'd', 'e', 'r', 'f', 'u', 'l', ' ', 'l', 'e', 's', 's', 'o', 'n', 's', ' ', 'o', 'f', ' ', 'D', 'a', 't', 'a', ' ', 'M', 'i', 'n', 'i', 'n', 'g', '!']\n"
     ]
    }
   ],
   "execution_count": 121
  },
  {
   "metadata": {
    "ExecuteTime": {
     "end_time": "2025-02-17T11:58:13.659109Z",
     "start_time": "2025-02-17T11:58:13.655013Z"
    }
   },
   "cell_type": "code",
   "source": "print(my_list[:5])",
   "id": "b720fe5d0f6bcab3",
   "outputs": [
    {
     "name": "stdout",
     "output_type": "stream",
     "text": [
      "['I', ' ', 'l', 'i', 'k']\n"
     ]
    }
   ],
   "execution_count": 122
  },
  {
   "metadata": {
    "ExecuteTime": {
     "end_time": "2025-02-17T11:58:25.295913Z",
     "start_time": "2025-02-17T11:58:25.291784Z"
    }
   },
   "cell_type": "code",
   "source": "print(my_list[:-1])",
   "id": "8bcc97540e8eb67d",
   "outputs": [
    {
     "name": "stdout",
     "output_type": "stream",
     "text": [
      "['I', ' ', 'l', 'i', 'k', 'e', ' ', 'w', 'o', 'n', 'd', 'e', 'r', 'f', 'u', 'l', ' ', 'l', 'e', 's', 's', 'o', 'n', 's', ' ', 'o', 'f', ' ', 'D', 'a', 't', 'a', ' ', 'M', 'i', 'n', 'i', 'n', 'g']\n"
     ]
    }
   ],
   "execution_count": 123
  },
  {
   "metadata": {
    "ExecuteTime": {
     "end_time": "2025-02-17T11:59:33.107278Z",
     "start_time": "2025-02-17T11:59:33.102830Z"
    }
   },
   "cell_type": "code",
   "source": "print(my_list[2:])",
   "id": "56c2ee77f51fd03b",
   "outputs": [
    {
     "name": "stdout",
     "output_type": "stream",
     "text": [
      "['l', 'i', 'k', 'e', ' ', 'w', 'o', 'n', 'd', 'e', 'r', 'f', 'u', 'l', ' ', 'l', 'e', 's', 's', 'o', 'n', 's', ' ', 'o', 'f', ' ', 'D', 'a', 't', 'a', ' ', 'M', 'i', 'n', 'i', 'n', 'g', '!']\n"
     ]
    }
   ],
   "execution_count": 124
  },
  {
   "metadata": {
    "ExecuteTime": {
     "end_time": "2025-02-17T11:59:43.624752Z",
     "start_time": "2025-02-17T11:59:43.620844Z"
    }
   },
   "cell_type": "code",
   "source": "print(my_list[2:6])",
   "id": "6b448d57035056c6",
   "outputs": [
    {
     "name": "stdout",
     "output_type": "stream",
     "text": [
      "['l', 'i', 'k', 'e']\n"
     ]
    }
   ],
   "execution_count": 125
  },
  {
   "metadata": {
    "ExecuteTime": {
     "end_time": "2025-02-17T12:01:16.735238Z",
     "start_time": "2025-02-17T12:01:16.731674Z"
    }
   },
   "cell_type": "code",
   "source": "print(my_list[::-1])",
   "id": "d0033369eada661e",
   "outputs": [
    {
     "name": "stdout",
     "output_type": "stream",
     "text": [
      "['!', 'g', 'n', 'i', 'n', 'i', 'M', ' ', 'a', 't', 'a', 'D', ' ', 'f', 'o', ' ', 's', 'n', 'o', 's', 's', 'e', 'l', ' ', 'l', 'u', 'f', 'r', 'e', 'd', 'n', 'o', 'w', ' ', 'e', 'k', 'i', 'l', ' ', 'I']\n"
     ]
    }
   ],
   "execution_count": 126
  },
  {
   "metadata": {},
   "cell_type": "code",
   "outputs": [],
   "execution_count": null,
   "source": "# for (int i = 0; i < len(my_list); i += -1)",
   "id": "fc07ff4faa64d514"
  },
  {
   "metadata": {},
   "cell_type": "code",
   "outputs": [],
   "execution_count": null,
   "source": "",
   "id": "fb3e4471a5c021be"
  },
  {
   "metadata": {
    "ExecuteTime": {
     "end_time": "2025-02-17T12:01:38.212592Z",
     "start_time": "2025-02-17T12:01:38.208263Z"
    }
   },
   "cell_type": "code",
   "source": "print(my_list[::])",
   "id": "2f2958ae35150365",
   "outputs": [
    {
     "name": "stdout",
     "output_type": "stream",
     "text": [
      "['I', ' ', 'l', 'i', 'k', 'e', ' ', 'w', 'o', 'n', 'd', 'e', 'r', 'f', 'u', 'l', ' ', 'l', 'e', 's', 's', 'o', 'n', 's', ' ', 'o', 'f', ' ', 'D', 'a', 't', 'a', ' ', 'M', 'i', 'n', 'i', 'n', 'g', '!']\n"
     ]
    }
   ],
   "execution_count": 127
  },
  {
   "metadata": {
    "ExecuteTime": {
     "end_time": "2025-02-17T12:01:53.958921Z",
     "start_time": "2025-02-17T12:01:53.954548Z"
    }
   },
   "cell_type": "code",
   "source": [
    "my_list_2 = my_list[::]\n",
    "my_list_2[0] = \"U\"\n",
    "print(my_list)\n",
    "print(my_list_2)"
   ],
   "id": "b32cef31df1cc6af",
   "outputs": [
    {
     "name": "stdout",
     "output_type": "stream",
     "text": [
      "['I', ' ', 'l', 'i', 'k', 'e', ' ', 'w', 'o', 'n', 'd', 'e', 'r', 'f', 'u', 'l', ' ', 'l', 'e', 's', 's', 'o', 'n', 's', ' ', 'o', 'f', ' ', 'D', 'a', 't', 'a', ' ', 'M', 'i', 'n', 'i', 'n', 'g', '!']\n",
      "['U', ' ', 'l', 'i', 'k', 'e', ' ', 'w', 'o', 'n', 'd', 'e', 'r', 'f', 'u', 'l', ' ', 'l', 'e', 's', 's', 'o', 'n', 's', ' ', 'o', 'f', ' ', 'D', 'a', 't', 'a', ' ', 'M', 'i', 'n', 'i', 'n', 'g', '!']\n"
     ]
    }
   ],
   "execution_count": 128
  },
  {
   "metadata": {
    "ExecuteTime": {
     "end_time": "2025-02-17T12:03:23.598501Z",
     "start_time": "2025-02-17T12:03:23.591574Z"
    }
   },
   "cell_type": "code",
   "source": [
    "com_list = [\"a\", [1, 3, 5], True, 0.1112]\n",
    "com_list_2 = com_list[::]\n",
    "com_list_2[1][0] = 1_000\n",
    "\n",
    "print(com_list)\n",
    "print(com_list_2)"
   ],
   "id": "f62eff417e51109c",
   "outputs": [
    {
     "name": "stdout",
     "output_type": "stream",
     "text": [
      "['a', [1000, 3, 5], True, 0.1112]\n",
      "['a', [1000, 3, 5], True, 0.1112]\n"
     ]
    }
   ],
   "execution_count": 129
  },
  {
   "metadata": {
    "ExecuteTime": {
     "end_time": "2025-02-17T12:03:52.663894Z",
     "start_time": "2025-02-17T12:03:52.659128Z"
    }
   },
   "cell_type": "code",
   "source": [
    "print(my_list[::1])\n",
    "print(my_list[::2])\n",
    "print(my_list[::3])"
   ],
   "id": "a719ba56887d0173",
   "outputs": [
    {
     "name": "stdout",
     "output_type": "stream",
     "text": [
      "['I', ' ', 'l', 'i', 'k', 'e', ' ', 'w', 'o', 'n', 'd', 'e', 'r', 'f', 'u', 'l', ' ', 'l', 'e', 's', 's', 'o', 'n', 's', ' ', 'o', 'f', ' ', 'D', 'a', 't', 'a', ' ', 'M', 'i', 'n', 'i', 'n', 'g', '!']\n",
      "['I', 'l', 'k', ' ', 'o', 'd', 'r', 'u', ' ', 'e', 's', 'n', ' ', 'f', 'D', 't', ' ', 'i', 'i', 'g']\n",
      "['I', 'i', ' ', 'n', 'r', 'l', 'e', 'o', ' ', ' ', 't', 'M', 'i', '!']\n"
     ]
    }
   ],
   "execution_count": 130
  },
  {
   "metadata": {
    "ExecuteTime": {
     "end_time": "2025-02-17T12:06:17.068573Z",
     "start_time": "2025-02-17T12:06:17.063542Z"
    }
   },
   "cell_type": "code",
   "source": [
    "aaa = [0, 1, 2, 3, 4, 5, 6, 7, 8, 9]\n",
    "print(aaa)\n",
    "print(\"Even:\", aaa[::2])\n",
    "print(\"Odd: \", aaa[1::2])"
   ],
   "id": "739324e47abb2f9d",
   "outputs": [
    {
     "name": "stdout",
     "output_type": "stream",
     "text": [
      "[0, 1, 2, 3, 4, 5, 6, 7, 8, 9]\n",
      "Even: [0, 2, 4, 6, 8]\n",
      "Odd:  [1, 3, 5, 7, 9]\n"
     ]
    }
   ],
   "execution_count": 133
  },
  {
   "metadata": {
    "ExecuteTime": {
     "end_time": "2025-02-17T12:06:37.726194Z",
     "start_time": "2025-02-17T12:06:37.722038Z"
    }
   },
   "cell_type": "code",
   "source": [
    "for a_ in aaa[::2]:\n",
    "    print(a_ ** a_)"
   ],
   "id": "605d58b29393a5b5",
   "outputs": [
    {
     "name": "stdout",
     "output_type": "stream",
     "text": [
      "1\n",
      "4\n",
      "256\n",
      "46656\n",
      "16777216\n"
     ]
    }
   ],
   "execution_count": 134
  },
  {
   "metadata": {
    "ExecuteTime": {
     "end_time": "2025-02-17T12:06:52.494649Z",
     "start_time": "2025-02-17T12:06:52.488996Z"
    }
   },
   "cell_type": "code",
   "source": [
    "aaa.append(1000)\n",
    "aaa"
   ],
   "id": "93e4e903479645e6",
   "outputs": [
    {
     "data": {
      "text/plain": [
       "[0, 1, 2, 3, 4, 5, 6, 7, 8, 9, 1000]"
      ]
     },
     "execution_count": 135,
     "metadata": {},
     "output_type": "execute_result"
    }
   ],
   "execution_count": 135
  },
  {
   "metadata": {
    "ExecuteTime": {
     "end_time": "2025-02-17T12:07:18.608457Z",
     "start_time": "2025-02-17T12:07:18.603900Z"
    }
   },
   "cell_type": "code",
   "source": [
    "aaa.extend(aaa[::2])\n",
    "print(aaa)"
   ],
   "id": "8cd3c7772d592382",
   "outputs": [
    {
     "name": "stdout",
     "output_type": "stream",
     "text": [
      "[0, 1, 2, 3, 4, 5, 6, 7, 8, 9, 1000, 0, 2, 4, 6, 8, 1000]\n"
     ]
    }
   ],
   "execution_count": 136
  },
  {
   "metadata": {
    "ExecuteTime": {
     "end_time": "2025-02-17T12:07:51.440822Z",
     "start_time": "2025-02-17T12:07:51.436788Z"
    }
   },
   "cell_type": "code",
   "source": "aaa.insert(1, 999)",
   "id": "d500254bc3098aef",
   "outputs": [],
   "execution_count": 137
  },
  {
   "metadata": {
    "ExecuteTime": {
     "end_time": "2025-02-17T12:07:53.309342Z",
     "start_time": "2025-02-17T12:07:53.303970Z"
    }
   },
   "cell_type": "code",
   "source": "print(aaa)",
   "id": "62d41a9ef3ce26b1",
   "outputs": [
    {
     "name": "stdout",
     "output_type": "stream",
     "text": [
      "[0, 999, 1, 2, 3, 4, 5, 6, 7, 8, 9, 1000, 0, 2, 4, 6, 8, 1000]\n"
     ]
    }
   ],
   "execution_count": 138
  },
  {
   "metadata": {
    "ExecuteTime": {
     "end_time": "2025-02-17T12:08:37.192439Z",
     "start_time": "2025-02-17T12:08:37.188978Z"
    }
   },
   "cell_type": "code",
   "source": [
    "aaa.insert(-1, 1001)\n",
    "print(aaa)"
   ],
   "id": "d7573da1a4a46640",
   "outputs": [
    {
     "name": "stdout",
     "output_type": "stream",
     "text": [
      "[0, 999, 1, 2, 3, 4, 5, 6, 7, 8, 9, 1000, 0, 2, 4, 6, 8, 1001, 1000]\n"
     ]
    }
   ],
   "execution_count": 139
  },
  {
   "metadata": {
    "ExecuteTime": {
     "end_time": "2025-02-17T12:09:15.201117Z",
     "start_time": "2025-02-17T12:09:15.195961Z"
    }
   },
   "cell_type": "code",
   "source": "aaa.pop()",
   "id": "dc1171a90209217d",
   "outputs": [
    {
     "data": {
      "text/plain": [
       "1000"
      ]
     },
     "execution_count": 140,
     "metadata": {},
     "output_type": "execute_result"
    }
   ],
   "execution_count": 140
  },
  {
   "metadata": {
    "ExecuteTime": {
     "end_time": "2025-02-17T12:09:24.451201Z",
     "start_time": "2025-02-17T12:09:24.446492Z"
    }
   },
   "cell_type": "code",
   "source": "aaa",
   "id": "90af0ce9cf7493a7",
   "outputs": [
    {
     "data": {
      "text/plain": [
       "[0, 999, 1, 2, 3, 4, 5, 6, 7, 8, 9, 1000, 0, 2, 4, 6, 8, 1001]"
      ]
     },
     "execution_count": 141,
     "metadata": {},
     "output_type": "execute_result"
    }
   ],
   "execution_count": 141
  },
  {
   "metadata": {
    "ExecuteTime": {
     "end_time": "2025-02-17T12:10:26.918982Z",
     "start_time": "2025-02-17T12:10:26.914797Z"
    }
   },
   "cell_type": "code",
   "source": "aaa[0]",
   "id": "35620a658ad36f16",
   "outputs": [
    {
     "data": {
      "text/plain": [
       "0"
      ]
     },
     "execution_count": 143,
     "metadata": {},
     "output_type": "execute_result"
    }
   ],
   "execution_count": 143
  },
  {
   "metadata": {
    "ExecuteTime": {
     "end_time": "2025-02-17T12:10:32.708912Z",
     "start_time": "2025-02-17T12:10:32.705026Z"
    }
   },
   "cell_type": "code",
   "source": "del aaa[0]",
   "id": "641f33424427876f",
   "outputs": [],
   "execution_count": 144
  },
  {
   "metadata": {
    "ExecuteTime": {
     "end_time": "2025-02-17T12:10:37.251101Z",
     "start_time": "2025-02-17T12:10:37.246308Z"
    }
   },
   "cell_type": "code",
   "source": "aaa",
   "id": "9484d7e3756bc263",
   "outputs": [
    {
     "data": {
      "text/plain": [
       "[999, 1, 2, 3, 4, 5, 6, 7, 8, 9, 1000, 0, 2, 4, 6, 8, 1001]"
      ]
     },
     "execution_count": 145,
     "metadata": {},
     "output_type": "execute_result"
    }
   ],
   "execution_count": 145
  },
  {
   "metadata": {
    "ExecuteTime": {
     "end_time": "2025-02-17T12:11:12.860139Z",
     "start_time": "2025-02-17T12:11:12.854912Z"
    }
   },
   "cell_type": "code",
   "source": "aaa.count(8), aaa.count(1000), aaa.count(\"a\")",
   "id": "7865e1b4e47384bc",
   "outputs": [
    {
     "data": {
      "text/plain": [
       "(2, 1, 0)"
      ]
     },
     "execution_count": 146,
     "metadata": {},
     "output_type": "execute_result"
    }
   ],
   "execution_count": 146
  },
  {
   "metadata": {
    "ExecuteTime": {
     "end_time": "2025-02-17T12:11:40.402822Z",
     "start_time": "2025-02-17T12:11:40.398216Z"
    }
   },
   "cell_type": "code",
   "source": "aaa.index(2)",
   "id": "57666d374decc77f",
   "outputs": [
    {
     "data": {
      "text/plain": [
       "2"
      ]
     },
     "execution_count": 147,
     "metadata": {},
     "output_type": "execute_result"
    }
   ],
   "execution_count": 147
  },
  {
   "metadata": {
    "ExecuteTime": {
     "end_time": "2025-02-17T12:11:50.028603Z",
     "start_time": "2025-02-17T12:11:50.014664Z"
    }
   },
   "cell_type": "code",
   "source": "aaa.insert(\"a\")",
   "id": "e08b304bacf6977b",
   "outputs": [
    {
     "ename": "TypeError",
     "evalue": "insert expected 2 arguments, got 1",
     "output_type": "error",
     "traceback": [
      "\u001B[1;31m---------------------------------------------------------------------------\u001B[0m",
      "\u001B[1;31mTypeError\u001B[0m                                 Traceback (most recent call last)",
      "Cell \u001B[1;32mIn[148], line 1\u001B[0m\n\u001B[1;32m----> 1\u001B[0m \u001B[43maaa\u001B[49m\u001B[38;5;241;43m.\u001B[39;49m\u001B[43minsert\u001B[49m\u001B[43m(\u001B[49m\u001B[38;5;124;43m\"\u001B[39;49m\u001B[38;5;124;43ma\u001B[39;49m\u001B[38;5;124;43m\"\u001B[39;49m\u001B[43m)\u001B[49m\n",
      "\u001B[1;31mTypeError\u001B[0m: insert expected 2 arguments, got 1"
     ]
    }
   ],
   "execution_count": 148
  },
  {
   "metadata": {},
   "cell_type": "code",
   "outputs": [],
   "execution_count": null,
   "source": "",
   "id": "78a719db4cc1809a"
  },
  {
   "metadata": {
    "ExecuteTime": {
     "end_time": "2025-02-17T12:12:19.163037Z",
     "start_time": "2025-02-17T12:12:19.156652Z"
    }
   },
   "cell_type": "code",
   "source": [
    "aaa = [0, 999, 1, 2, 3, 4, 5, 6, 7, 8, 9, 1000, 0, 2, 4, 6, 8, 1000]\n",
    "aaa.sort()\n",
    "aaa"
   ],
   "id": "1f0e24d727c0f0b5",
   "outputs": [
    {
     "data": {
      "text/plain": [
       "[0, 0, 1, 2, 2, 3, 4, 4, 5, 6, 6, 7, 8, 8, 9, 999, 1000, 1000]"
      ]
     },
     "execution_count": 149,
     "metadata": {},
     "output_type": "execute_result"
    }
   ],
   "execution_count": 149
  },
  {
   "metadata": {
    "ExecuteTime": {
     "end_time": "2025-02-17T12:12:29.338054Z",
     "start_time": "2025-02-17T12:12:29.331499Z"
    }
   },
   "cell_type": "code",
   "source": [
    "aaa = [0, 999, 1, 2, 3, 4, 5, 6, 7, 8, 9, 1000, 0, 2, 4, 6, 8, 1000]\n",
    "aaa.sort(reverse=True)\n",
    "aaa"
   ],
   "id": "ba302a09c49ff038",
   "outputs": [
    {
     "data": {
      "text/plain": [
       "[1000, 1000, 999, 9, 8, 8, 7, 6, 6, 5, 4, 4, 3, 2, 2, 1, 0, 0]"
      ]
     },
     "execution_count": 150,
     "metadata": {},
     "output_type": "execute_result"
    }
   ],
   "execution_count": 150
  },
  {
   "metadata": {
    "ExecuteTime": {
     "end_time": "2025-02-17T12:16:16.158232Z",
     "start_time": "2025-02-17T12:16:16.153904Z"
    }
   },
   "cell_type": "code",
   "source": [
    "aaa = [0, 999, True, \"aaa\", \"Bobr\", -173, 281, 0]\n",
    "aaa.sort(key=lambda x: -ord(str(x)[0])) \n",
    "print(aaa) "
   ],
   "id": "6b46f187fa9b3b29",
   "outputs": [
    {
     "name": "stdout",
     "output_type": "stream",
     "text": [
      "['aaa', True, 'Bobr', 999, 281, 0, 0, -173]\n"
     ]
    }
   ],
   "execution_count": 159
  },
  {
   "metadata": {
    "ExecuteTime": {
     "end_time": "2025-02-17T12:17:48.145423Z",
     "start_time": "2025-02-17T12:17:48.139555Z"
    }
   },
   "cell_type": "code",
   "source": [
    "def char_order(x):\n",
    "    return ord(str(x)[0])\n",
    "\n",
    "\n",
    "aaa = [0, 999, True, \"aaa\", \"Bobr\", \"Calcium\", \"Joger\", \"bbb\", \"ccc\", -173, 281, 0]\n",
    "aaa.sort(key=char_order) \n",
    "print(aaa) "
   ],
   "id": "1bb3c5a1791938a2",
   "outputs": [
    {
     "name": "stdout",
     "output_type": "stream",
     "text": [
      "[-173, 0, 0, 281, 999, 'Bobr', 'Calcium', 'Joger', True, 'aaa', 'bbb', 'ccc']\n"
     ]
    }
   ],
   "execution_count": 162
  },
  {
   "metadata": {},
   "cell_type": "code",
   "outputs": [],
   "execution_count": null,
   "source": "",
   "id": "5734123d9dc86ee2"
  },
  {
   "metadata": {},
   "cell_type": "code",
   "source": "",
   "id": "5df5288bf2753925",
   "outputs": [],
   "execution_count": null
  },
  {
   "metadata": {},
   "cell_type": "markdown",
   "source": "# Tuple",
   "id": "ba09630e28b3bb44"
  },
  {
   "metadata": {
    "ExecuteTime": {
     "end_time": "2025-02-17T12:21:29.914767Z",
     "start_time": "2025-02-17T12:21:29.909848Z"
    }
   },
   "cell_type": "code",
   "source": [
    "ta = (0, True, \"abhahs \", \"\", None, None, 0, 0, 9.0127)\n",
    "print(ta)"
   ],
   "id": "835c3124f4376594",
   "outputs": [
    {
     "name": "stdout",
     "output_type": "stream",
     "text": [
      "(0, True, 'abhahs ', '', None, None, 0, 0, 9.0127)\n"
     ]
    }
   ],
   "execution_count": 163
  },
  {
   "metadata": {
    "ExecuteTime": {
     "end_time": "2025-02-17T12:21:46.942448Z",
     "start_time": "2025-02-17T12:21:46.937428Z"
    }
   },
   "cell_type": "code",
   "source": "ta.count(0), ta.count(True), ta.count(None), ta.count(9)",
   "id": "7ec9454b00e39adb",
   "outputs": [
    {
     "data": {
      "text/plain": [
       "(3, 1, 2, 0)"
      ]
     },
     "execution_count": 164,
     "metadata": {},
     "output_type": "execute_result"
    }
   ],
   "execution_count": 164
  },
  {
   "metadata": {
    "ExecuteTime": {
     "end_time": "2025-02-17T12:21:47.342353Z",
     "start_time": "2025-02-17T12:21:47.337499Z"
    }
   },
   "cell_type": "code",
   "source": "ta.index(0), ta.index(None)",
   "id": "c94c281e5f7ea852",
   "outputs": [
    {
     "data": {
      "text/plain": [
       "(0, 4)"
      ]
     },
     "execution_count": 165,
     "metadata": {},
     "output_type": "execute_result"
    }
   ],
   "execution_count": 165
  },
  {
   "metadata": {
    "ExecuteTime": {
     "end_time": "2025-02-17T12:23:06.287902Z",
     "start_time": "2025-02-17T12:23:06.282633Z"
    }
   },
   "cell_type": "code",
   "source": "ta[0]",
   "id": "4d46cac67b39b0f2",
   "outputs": [
    {
     "data": {
      "text/plain": [
       "0"
      ]
     },
     "execution_count": 166,
     "metadata": {},
     "output_type": "execute_result"
    }
   ],
   "execution_count": 166
  },
  {
   "metadata": {
    "ExecuteTime": {
     "end_time": "2025-02-17T12:23:10.625221Z",
     "start_time": "2025-02-17T12:23:10.619936Z"
    }
   },
   "cell_type": "code",
   "source": "ta[2]",
   "id": "24a93946f37047b3",
   "outputs": [
    {
     "data": {
      "text/plain": [
       "'abhahs '"
      ]
     },
     "execution_count": 167,
     "metadata": {},
     "output_type": "execute_result"
    }
   ],
   "execution_count": 167
  },
  {
   "metadata": {
    "ExecuteTime": {
     "end_time": "2025-02-17T12:23:22.444155Z",
     "start_time": "2025-02-17T12:23:22.425165Z"
    }
   },
   "cell_type": "code",
   "source": "ta[2] = 1",
   "id": "91bfe96806db59d3",
   "outputs": [
    {
     "ename": "TypeError",
     "evalue": "'tuple' object does not support item assignment",
     "output_type": "error",
     "traceback": [
      "\u001B[1;31m---------------------------------------------------------------------------\u001B[0m",
      "\u001B[1;31mTypeError\u001B[0m                                 Traceback (most recent call last)",
      "Cell \u001B[1;32mIn[168], line 1\u001B[0m\n\u001B[1;32m----> 1\u001B[0m \u001B[43mta\u001B[49m\u001B[43m[\u001B[49m\u001B[38;5;241;43m2\u001B[39;49m\u001B[43m]\u001B[49m \u001B[38;5;241m=\u001B[39m \u001B[38;5;241m1\u001B[39m\n",
      "\u001B[1;31mTypeError\u001B[0m: 'tuple' object does not support item assignment"
     ]
    }
   ],
   "execution_count": 168
  },
  {
   "metadata": {
    "ExecuteTime": {
     "end_time": "2025-02-17T12:24:14.876279Z",
     "start_time": "2025-02-17T12:24:14.872689Z"
    }
   },
   "cell_type": "code",
   "source": [
    "t_user = (\"Vol\", \"Donets\", 27, \"PhD\")\n",
    "name, s_name, age, edu = t_user"
   ],
   "id": "e2d23afa652f8c4",
   "outputs": [],
   "execution_count": 172
  },
  {
   "metadata": {
    "ExecuteTime": {
     "end_time": "2025-02-17T12:23:58.663403Z",
     "start_time": "2025-02-17T12:23:58.656791Z"
    }
   },
   "cell_type": "code",
   "source": "name",
   "id": "f307a64ac2adc75e",
   "outputs": [
    {
     "data": {
      "text/plain": [
       "'Vol'"
      ]
     },
     "execution_count": 170,
     "metadata": {},
     "output_type": "execute_result"
    }
   ],
   "execution_count": 170
  },
  {
   "metadata": {
    "ExecuteTime": {
     "end_time": "2025-02-17T12:25:23.097164Z",
     "start_time": "2025-02-17T12:25:23.092405Z"
    }
   },
   "cell_type": "code",
   "source": [
    "com_tuple = (\"a\", [1, 3, 5], True, 0.1112)\n",
    "com_tuple_2 = com_tuple[::]\n",
    "com_tuple_2[1][0] = 1_000\n",
    "\n",
    "print(com_tuple)\n",
    "print(com_tuple_2)"
   ],
   "id": "37874a98952f5f59",
   "outputs": [
    {
     "name": "stdout",
     "output_type": "stream",
     "text": [
      "('a', [1000, 3, 5], True, 0.1112)\n",
      "('a', [1000, 3, 5], True, 0.1112)\n"
     ]
    }
   ],
   "execution_count": 173
  },
  {
   "metadata": {},
   "cell_type": "code",
   "source": "",
   "id": "ad30260710fcdc1c",
   "outputs": [],
   "execution_count": null
  },
  {
   "metadata": {},
   "cell_type": "markdown",
   "source": "# Dict",
   "id": "d31b65b3d5af8094"
  },
  {
   "metadata": {
    "ExecuteTime": {
     "end_time": "2025-02-17T12:29:07.430383Z",
     "start_time": "2025-02-17T12:29:07.426567Z"
    }
   },
   "cell_type": "code",
   "source": [
    "dict_user = {\n",
    "    \"first_name\": \"Vol\",\n",
    "    \"last_name\": \"Donets\",\n",
    "    \"age\": 27, \n",
    "    \"education\": \"PhD\",\n",
    "    \"city\": \"San Francisco\",\n",
    "    \"subjects\": [\"Data Mining\", \"Machine Learning\", \"Advanced Machine Learning\"]\n",
    "}"
   ],
   "id": "1535bdeb9043aefd",
   "outputs": [],
   "execution_count": 175
  },
  {
   "metadata": {},
   "cell_type": "code",
   "outputs": [],
   "execution_count": null,
   "source": "dict()",
   "id": "25e390010014c836"
  },
  {
   "metadata": {
    "ExecuteTime": {
     "end_time": "2025-02-17T12:29:11.634884Z",
     "start_time": "2025-02-17T12:29:11.630082Z"
    }
   },
   "cell_type": "code",
   "source": "dict_user[\"city\"]",
   "id": "1cda75d48f5b79be",
   "outputs": [
    {
     "data": {
      "text/plain": [
       "'San Francisco'"
      ]
     },
     "execution_count": 176,
     "metadata": {},
     "output_type": "execute_result"
    }
   ],
   "execution_count": 176
  },
  {
   "metadata": {
    "ExecuteTime": {
     "end_time": "2025-02-17T12:29:24.338901Z",
     "start_time": "2025-02-17T12:29:24.331651Z"
    }
   },
   "cell_type": "code",
   "source": "dict_user[\"city\"] = \"Santa Monika\"",
   "id": "9927f15ca5addb42",
   "outputs": [],
   "execution_count": 177
  },
  {
   "metadata": {
    "ExecuteTime": {
     "end_time": "2025-02-17T12:29:26.753219Z",
     "start_time": "2025-02-17T12:29:26.747695Z"
    }
   },
   "cell_type": "code",
   "source": "dict_user",
   "id": "9f8e3a7b1255860a",
   "outputs": [
    {
     "data": {
      "text/plain": [
       "{'first_name': 'Vol',\n",
       " 'last_name': 'Donets',\n",
       " 'age': 27,\n",
       " 'education': 'PhD',\n",
       " 'city': 'Santa Monika',\n",
       " 'subjects': ['Data Mining', 'Machine Learning', 'Advanced Machine Learning']}"
      ]
     },
     "execution_count": 178,
     "metadata": {},
     "output_type": "execute_result"
    }
   ],
   "execution_count": 178
  },
  {
   "metadata": {
    "ExecuteTime": {
     "end_time": "2025-02-17T12:29:33.320639Z",
     "start_time": "2025-02-17T12:29:33.317119Z"
    }
   },
   "cell_type": "code",
   "source": "dict_user[\"sex\"] = \"male\"",
   "id": "2ce37da7c80d5e81",
   "outputs": [],
   "execution_count": 179
  },
  {
   "metadata": {
    "ExecuteTime": {
     "end_time": "2025-02-17T12:29:34.010976Z",
     "start_time": "2025-02-17T12:29:34.006023Z"
    }
   },
   "cell_type": "code",
   "source": "dict_user",
   "id": "85f652bf2f896244",
   "outputs": [
    {
     "data": {
      "text/plain": [
       "{'first_name': 'Vol',\n",
       " 'last_name': 'Donets',\n",
       " 'age': 27,\n",
       " 'education': 'PhD',\n",
       " 'city': 'Santa Monika',\n",
       " 'subjects': ['Data Mining', 'Machine Learning', 'Advanced Machine Learning'],\n",
       " 'sex': 'male'}"
      ]
     },
     "execution_count": 180,
     "metadata": {},
     "output_type": "execute_result"
    }
   ],
   "execution_count": 180
  },
  {
   "metadata": {
    "ExecuteTime": {
     "end_time": "2025-02-17T12:29:53.939122Z",
     "start_time": "2025-02-17T12:29:53.935380Z"
    }
   },
   "cell_type": "code",
   "source": "del dict_user[\"age\"]",
   "id": "9f4c55bbe56b3661",
   "outputs": [],
   "execution_count": 181
  },
  {
   "metadata": {
    "ExecuteTime": {
     "end_time": "2025-02-17T12:29:54.618089Z",
     "start_time": "2025-02-17T12:29:54.611809Z"
    }
   },
   "cell_type": "code",
   "source": "dict_user",
   "id": "4e7d1880b364e81d",
   "outputs": [
    {
     "data": {
      "text/plain": [
       "{'first_name': 'Vol',\n",
       " 'last_name': 'Donets',\n",
       " 'education': 'PhD',\n",
       " 'city': 'Santa Monika',\n",
       " 'subjects': ['Data Mining', 'Machine Learning', 'Advanced Machine Learning'],\n",
       " 'sex': 'male'}"
      ]
     },
     "execution_count": 182,
     "metadata": {},
     "output_type": "execute_result"
    }
   ],
   "execution_count": 182
  },
  {
   "metadata": {
    "ExecuteTime": {
     "end_time": "2025-02-17T12:30:24.345921Z",
     "start_time": "2025-02-17T12:30:24.341008Z"
    }
   },
   "cell_type": "code",
   "source": "dict_user.update({\"hair_color\": \"brown\", \"eye_color\": \"red\"})",
   "id": "6d16da8f3c2f4fc7",
   "outputs": [],
   "execution_count": 183
  },
  {
   "metadata": {
    "ExecuteTime": {
     "end_time": "2025-02-17T12:30:26.024177Z",
     "start_time": "2025-02-17T12:30:26.018615Z"
    }
   },
   "cell_type": "code",
   "source": "dict_user",
   "id": "bad41ef29b082b0f",
   "outputs": [
    {
     "data": {
      "text/plain": [
       "{'first_name': 'Vol',\n",
       " 'last_name': 'Donets',\n",
       " 'education': 'PhD',\n",
       " 'city': 'Santa Monika',\n",
       " 'subjects': ['Data Mining', 'Machine Learning', 'Advanced Machine Learning'],\n",
       " 'sex': 'male',\n",
       " 'hair_color': 'brown',\n",
       " 'eye_color': 'red'}"
      ]
     },
     "execution_count": 184,
     "metadata": {},
     "output_type": "execute_result"
    }
   ],
   "execution_count": 184
  },
  {
   "metadata": {
    "ExecuteTime": {
     "end_time": "2025-02-17T12:30:52.263230Z",
     "start_time": "2025-02-17T12:30:52.257162Z"
    }
   },
   "cell_type": "code",
   "source": [
    "dict_user.update({\"hair_color\": \"orange\", \"eye_color\": \"green\", \"p_language\": [\"Python\", ]})\n",
    "dict_user"
   ],
   "id": "3ac0b3e0896a76db",
   "outputs": [
    {
     "data": {
      "text/plain": [
       "{'first_name': 'Vol',\n",
       " 'last_name': 'Donets',\n",
       " 'education': 'PhD',\n",
       " 'city': 'Santa Monika',\n",
       " 'subjects': ['Data Mining', 'Machine Learning', 'Advanced Machine Learning'],\n",
       " 'sex': 'male',\n",
       " 'hair_color': 'orange',\n",
       " 'eye_color': 'green',\n",
       " 'p_language': ['Python']}"
      ]
     },
     "execution_count": 185,
     "metadata": {},
     "output_type": "execute_result"
    }
   ],
   "execution_count": 185
  },
  {
   "metadata": {
    "ExecuteTime": {
     "end_time": "2025-02-17T12:31:44.097058Z",
     "start_time": "2025-02-17T12:31:44.093190Z"
    }
   },
   "cell_type": "code",
   "source": [
    "for key, val in dict_user.items():\n",
    "    print(f\"{key}: {val}\")"
   ],
   "id": "35ab2dfa767569da",
   "outputs": [
    {
     "name": "stdout",
     "output_type": "stream",
     "text": [
      "first_name: Vol\n",
      "last_name: Donets\n",
      "education: PhD\n",
      "city: Santa Monika\n",
      "subjects: ['Data Mining', 'Machine Learning', 'Advanced Machine Learning']\n",
      "sex: male\n",
      "hair_color: orange\n",
      "eye_color: green\n",
      "p_language: ['Python']\n"
     ]
    }
   ],
   "execution_count": 187
  },
  {
   "metadata": {
    "ExecuteTime": {
     "end_time": "2025-02-17T12:31:53.792042Z",
     "start_time": "2025-02-17T12:31:53.787534Z"
    }
   },
   "cell_type": "code",
   "source": "dict_user.items()",
   "id": "6eddedbb1ee49d5d",
   "outputs": [
    {
     "data": {
      "text/plain": [
       "dict_items([('first_name', 'Vol'), ('last_name', 'Donets'), ('education', 'PhD'), ('city', 'Santa Monika'), ('subjects', ['Data Mining', 'Machine Learning', 'Advanced Machine Learning']), ('sex', 'male'), ('hair_color', 'orange'), ('eye_color', 'green'), ('p_language', ['Python'])])"
      ]
     },
     "execution_count": 188,
     "metadata": {},
     "output_type": "execute_result"
    }
   ],
   "execution_count": 188
  },
  {
   "metadata": {
    "ExecuteTime": {
     "end_time": "2025-02-17T12:32:44.373962Z",
     "start_time": "2025-02-17T12:32:44.369422Z"
    }
   },
   "cell_type": "code",
   "source": [
    "for pair in dict_user.items():\n",
    "    print(pair)"
   ],
   "id": "97341277dabbb7a3",
   "outputs": [
    {
     "name": "stdout",
     "output_type": "stream",
     "text": [
      "('first_name', 'Vol')\n",
      "('last_name', 'Donets')\n",
      "('education', 'PhD')\n",
      "('city', 'Santa Monika')\n",
      "('subjects', ['Data Mining', 'Machine Learning', 'Advanced Machine Learning'])\n",
      "('sex', 'male')\n",
      "('hair_color', 'orange')\n",
      "('eye_color', 'green')\n",
      "('p_language', ['Python'])\n"
     ]
    }
   ],
   "execution_count": 189
  },
  {
   "metadata": {
    "ExecuteTime": {
     "end_time": "2025-02-17T12:32:58.249510Z",
     "start_time": "2025-02-17T12:32:58.244334Z"
    }
   },
   "cell_type": "code",
   "source": "dict_user.values()",
   "id": "1e7e483a9ea9edfd",
   "outputs": [
    {
     "data": {
      "text/plain": [
       "dict_values(['Vol', 'Donets', 'PhD', 'Santa Monika', ['Data Mining', 'Machine Learning', 'Advanced Machine Learning'], 'male', 'orange', 'green', ['Python']])"
      ]
     },
     "execution_count": 190,
     "metadata": {},
     "output_type": "execute_result"
    }
   ],
   "execution_count": 190
  },
  {
   "metadata": {
    "ExecuteTime": {
     "end_time": "2025-02-17T12:33:08.859780Z",
     "start_time": "2025-02-17T12:33:08.854706Z"
    }
   },
   "cell_type": "code",
   "source": "dict_user.keys()",
   "id": "19b825c93015af01",
   "outputs": [
    {
     "data": {
      "text/plain": [
       "dict_keys(['first_name', 'last_name', 'education', 'city', 'subjects', 'sex', 'hair_color', 'eye_color', 'p_language'])"
      ]
     },
     "execution_count": 191,
     "metadata": {},
     "output_type": "execute_result"
    }
   ],
   "execution_count": 191
  },
  {
   "metadata": {},
   "cell_type": "code",
   "source": "",
   "id": "2c93f53b790dc863",
   "outputs": [],
   "execution_count": null
  },
  {
   "metadata": {
    "ExecuteTime": {
     "end_time": "2025-02-17T12:41:56.193625Z",
     "start_time": "2025-02-17T12:41:55.310057Z"
    }
   },
   "cell_type": "code",
   "source": [
    "import numpy as np\n",
    "import matplotlib.pyplot as plt\n",
    "\n",
    "# Generate x values from 0 to 2π with a step of 0.1\n",
    "x = np.arange(0, 6 * np.pi, 0.1)\n",
    "\n",
    "# Calculate sine and cosine values\n",
    "y_sin = np.sin(x)\n",
    "y_cos = np.cos(x)\n",
    "\n",
    "# Create the plot\n",
    "plt.figure(figsize=(12, 6))\n",
    "plt.plot(x, y_sin, label='Sine')\n",
    "plt.plot(x, y_cos, label='Cosine')\n",
    "\n",
    "# Set labels and title\n",
    "plt.xlabel('x')\n",
    "plt.ylabel('y')\n",
    "plt.title('Sine and Cosine Functions')\n",
    "\n",
    "# Add legend\n",
    "plt.legend()\n",
    "\n",
    "# Show the plot\n",
    "plt.grid(True)\n",
    "plt.show()"
   ],
   "id": "c47625fb7383e7d2",
   "outputs": [
    {
     "data": {
      "text/plain": [
       "<Figure size 1200x600 with 1 Axes>"
      ],
      "image/png": "[encoded data removed]"
     },
     "metadata": {},
     "output_type": "display_data"
    }
   ],
   "execution_count": 192
  },
  {
   "metadata": {},
   "cell_type": "code",
   "outputs": [],
   "execution_count": null,
   "source": "",
   "id": "24a1dc1d38f2cfbf"
  },
  {
   "metadata": {},
   "cell_type": "code",
   "outputs": [],
   "execution_count": null,
   "source": "",
   "id": "4616601190ea4298"
  }
 ],
 "metadata": {
  "kernelspec": {
   "display_name": "Python 3",
   "language": "python",
   "name": "python3"
  },
  "language_info": {
   "codemirror_mode": {
    "name": "ipython",
    "version": 2
   },
   "file_extension": ".py",
   "mimetype": "text/x-python",
   "name": "python",
   "nbconvert_exporter": "python",
   "pygments_lexer": "ipython2",
   "version": "2.7.6"
  }
 },
 "nbformat": 4,
 "nbformat_minor": 5
}
